{
  "cells": [
    {
      "cell_type": "markdown",
      "metadata": {
        "id": "A5mIU02iUZxe"
      },
      "source": [
        "# Image Classification by MLP - Fashion MNIST"
      ]
    },
    {
      "cell_type": "markdown",
      "metadata": {
        "id": "euj-Q4viUZx6"
      },
      "source": [
        "In this exercise, we will try to use a neural network on a simple classification task: classifying images of clothes into 10 classes."
      ]
    },
    {
      "cell_type": "markdown",
      "metadata": {
        "id": "mmfA9dsrUZx7"
      },
      "source": [
        "We will first download the data:"
      ]
    },
    {
      "cell_type": "code",
      "execution_count": 23,
      "metadata": {
        "scrolled": true,
        "colab": {
          "base_uri": "https://localhost:8080/"
        },
        "id": "ORtS414nUZx8",
        "outputId": "d5394a6d-4d6e-4b22-d202-a84c5dfce1a0"
      },
      "outputs": [
        {
          "output_type": "execute_result",
          "data": {
            "text/plain": [
              "(60000, 28, 28)"
            ]
          },
          "metadata": {},
          "execution_count": 23
        }
      ],
      "source": [
        "from tensorflow.keras.datasets import fashion_mnist\n",
        "import numpy as np\n",
        "\n",
        "#TODO: load dataset\n",
        "(X_train, y_train), (X_test, y_test) = fashion_mnist.load_data()\n",
        "\n",
        "X_train.shape"
      ]
    },
    {
      "cell_type": "markdown",
      "metadata": {
        "id": "oJVZyPU3UZyC"
      },
      "source": [
        "This dataset contains 10 classes:\n",
        "* 0:\tT-shirt/top\n",
        "* 1:\tTrouser\n",
        "* 2:\tPullover\n",
        "* 3:\tDress\n",
        "* 4:\tCoat\n",
        "* 5:\tSandal\n",
        "* 6:\tShirt\n",
        "* 7:\tSneaker\n",
        "* 8:\tBag\n",
        "* 9:\tAnkle boot"
      ]
    },
    {
      "cell_type": "markdown",
      "metadata": {
        "id": "WXefwUzJUZyD"
      },
      "source": [
        "Now begin by exploring the data. Try to display some images with the associated label."
      ]
    },
    {
      "cell_type": "code",
      "execution_count": 24,
      "metadata": {
        "scrolled": true,
        "colab": {
          "base_uri": "https://localhost:8080/",
          "height": 452
        },
        "id": "_sM-Zrt_UZyE",
        "outputId": "98450e2a-958f-430b-e3c7-9ab80505ccd7"
      },
      "outputs": [
        {
          "output_type": "display_data",
          "data": {
            "text/plain": [
              "<Figure size 640x480 with 1 Axes>"
            ],
            "image/png": "[encoded data removed]"
          },
          "metadata": {}
        }
      ],
      "source": [
        "# TODO: Explore the data, display some input images\n",
        "%matplotlib inline\n",
        "import matplotlib.pyplot as plt\n",
        "import numpy as np\n",
        "\n",
        "label_class = ['top', 'trouser', 'pullover', 'dress', 'coat', 'sandal', 'shirt', 'sneaker', 'bag', 'ankle boot']\n",
        "\n",
        "np.random.seed(0)\n",
        "\n",
        "idx = np.random.randint(X_train.shape[0])\n",
        "\n",
        "plt.imshow(X_train[idx], cmap='gray')\n",
        "plt.title(label_class[y_train[idx]])\n",
        "plt.show()"
      ]
    },
    {
      "cell_type": "markdown",
      "metadata": {
        "id": "KYMdozQ-UZyH"
      },
      "source": [
        "**Before going further**: what methods could you use to perform such a classification task?"
      ]
    },
    {
      "cell_type": "markdown",
      "metadata": {
        "id": "Sr0EiV2mUZyI"
      },
      "source": [
        "---"
      ]
    },
    {
      "cell_type": "markdown",
      "metadata": {
        "id": "jDWaz1hrUZyJ"
      },
      "source": [
        "The first method you will try is using neural networks. First step is the data preparation: data rescaling, label preparation.\n",
        "\n",
        "Hint: you can use the Keras function `to_categorical`"
      ]
    },
    {
      "cell_type": "code",
      "execution_count": 25,
      "metadata": {
        "id": "Yag0BZqFUZyK"
      },
      "outputs": [],
      "source": [
        "# TODO: Make the data preparation\n",
        "from tensorflow.keras.utils import to_categorical\n",
        "\n",
        "num_classes = 10\n",
        "y_train_cat = to_categorical(y_train, num_classes)\n",
        "y_test_cat = to_categorical(y_test, num_classes)\n",
        "\n",
        "X_train_norm = X_train.astype('float32') / 255.0\n",
        "X_test_norm = X_test.astype('float32') / 255.0\n",
        "\n",
        "X_train_norm = X_train_norm.reshape((X_train_norm.shape[0], -1))\n",
        "X_test_norm = X_test_norm.reshape((X_test_norm.shape[0], -1))"
      ]
    },
    {
      "cell_type": "markdown",
      "metadata": {
        "id": "heMCHbxLUZyL"
      },
      "source": [
        "Next step: model building with Keras. Build your neural network architecture. At first, I would recommend a light architecture: no more than 2 hidden layers, with about 10 units per layer. Put that model into a function, so that you can reuse it later."
      ]
    },
    {
      "cell_type": "code",
      "execution_count": 26,
      "metadata": {
        "id": "56dWLpn4UZyM"
      },
      "outputs": [],
      "source": [
        "# TODO: Build your model\n",
        "from tensorflow.keras.models import Sequential\n",
        "from tensorflow.keras.layers import Dense\n",
        "\n",
        "def my_model(input_dim):\n",
        "    model = Sequential()\n",
        "\n",
        "    model.add(Dense(10, activation='relu', input_dim=input_dim))\n",
        "    model.add(Dense(10, activation='relu'))\n",
        "\n",
        "    model.add(Dense(10, activation='softmax'))\n",
        "\n",
        "    return model"
      ]
    },
    {
      "cell_type": "markdown",
      "metadata": {
        "id": "izKlw29XUZyO"
      },
      "source": [
        "Now compile and fit your model on your training data. Since this is a multiclass classification, the loss is not `binary_crossentropy` anymore, but `categorical_crossentropy`."
      ]
    },
    {
      "cell_type": "code",
      "execution_count": 22,
      "metadata": {
        "scrolled": true,
        "colab": {
          "base_uri": "https://localhost:8080/"
        },
        "id": "0J0qt8RjUZyP",
        "outputId": "60112b46-cd6f-456f-9057-9ab7d922c868"
      },
      "outputs": [
        {
          "output_type": "stream",
          "name": "stdout",
          "text": [
            "Epoch 1/100\n",
            "469/469 [==============================] - 2s 3ms/step - loss: 1.0657 - accuracy: 0.6360\n",
            "Epoch 2/100\n",
            "469/469 [==============================] - 2s 4ms/step - loss: 0.5460 - accuracy: 0.8107\n",
            "Epoch 3/100\n",
            "469/469 [==============================] - 2s 4ms/step - loss: 0.4897 - accuracy: 0.8314\n",
            "Epoch 4/100\n",
            "469/469 [==============================] - 2s 4ms/step - loss: 0.4621 - accuracy: 0.8390\n",
            "Epoch 5/100\n",
            "469/469 [==============================] - 2s 4ms/step - loss: 0.4462 - accuracy: 0.8443\n",
            "Epoch 6/100\n",
            "469/469 [==============================] - 3s 6ms/step - loss: 0.4345 - accuracy: 0.8483\n",
            "Epoch 7/100\n",
            "469/469 [==============================] - 2s 4ms/step - loss: 0.4247 - accuracy: 0.8514\n",
            "Epoch 8/100\n",
            "469/469 [==============================] - 2s 4ms/step - loss: 0.4144 - accuracy: 0.8556\n",
            "Epoch 9/100\n",
            "469/469 [==============================] - 2s 4ms/step - loss: 0.4098 - accuracy: 0.8566\n",
            "Epoch 10/100\n",
            "469/469 [==============================] - 2s 4ms/step - loss: 0.4075 - accuracy: 0.8565\n",
            "Epoch 11/100\n",
            "469/469 [==============================] - 2s 4ms/step - loss: 0.4001 - accuracy: 0.8586\n",
            "Epoch 12/100\n",
            "469/469 [==============================] - 4s 9ms/step - loss: 0.3943 - accuracy: 0.8609\n",
            "Epoch 13/100\n",
            "469/469 [==============================] - 4s 8ms/step - loss: 0.3919 - accuracy: 0.8623\n",
            "Epoch 14/100\n",
            "469/469 [==============================] - 4s 8ms/step - loss: 0.3894 - accuracy: 0.8616\n",
            "Epoch 15/100\n",
            "469/469 [==============================] - 4s 8ms/step - loss: 0.3866 - accuracy: 0.8627\n",
            "Epoch 16/100\n",
            "469/469 [==============================] - 5s 10ms/step - loss: 0.3824 - accuracy: 0.8648\n",
            "Epoch 17/100\n",
            "469/469 [==============================] - 4s 8ms/step - loss: 0.3794 - accuracy: 0.8654\n",
            "Epoch 18/100\n",
            "469/469 [==============================] - 4s 9ms/step - loss: 0.3782 - accuracy: 0.8661\n",
            "Epoch 19/100\n",
            "469/469 [==============================] - 4s 8ms/step - loss: 0.3751 - accuracy: 0.8664\n",
            "Epoch 20/100\n",
            "469/469 [==============================] - 2s 4ms/step - loss: 0.3715 - accuracy: 0.8683\n",
            "Epoch 21/100\n",
            "469/469 [==============================] - 2s 4ms/step - loss: 0.3716 - accuracy: 0.8680\n",
            "Epoch 22/100\n",
            "469/469 [==============================] - 2s 3ms/step - loss: 0.3685 - accuracy: 0.8702\n",
            "Epoch 23/100\n",
            "469/469 [==============================] - 2s 4ms/step - loss: 0.3666 - accuracy: 0.8685\n",
            "Epoch 24/100\n",
            "469/469 [==============================] - 2s 3ms/step - loss: 0.3659 - accuracy: 0.8706\n",
            "Epoch 25/100\n",
            "469/469 [==============================] - 2s 3ms/step - loss: 0.3658 - accuracy: 0.8703\n",
            "Epoch 26/100\n",
            "469/469 [==============================] - 3s 6ms/step - loss: 0.3633 - accuracy: 0.8702\n",
            "Epoch 27/100\n",
            "469/469 [==============================] - 2s 4ms/step - loss: 0.3611 - accuracy: 0.8710\n",
            "Epoch 28/100\n",
            "469/469 [==============================] - 2s 3ms/step - loss: 0.3615 - accuracy: 0.8711\n",
            "Epoch 29/100\n",
            "469/469 [==============================] - 2s 4ms/step - loss: 0.3601 - accuracy: 0.8711\n",
            "Epoch 30/100\n",
            "469/469 [==============================] - 2s 3ms/step - loss: 0.3584 - accuracy: 0.8715\n",
            "Epoch 31/100\n",
            "469/469 [==============================] - 2s 4ms/step - loss: 0.3569 - accuracy: 0.8725\n",
            "Epoch 32/100\n",
            "469/469 [==============================] - 2s 3ms/step - loss: 0.3558 - accuracy: 0.8720\n",
            "Epoch 33/100\n",
            "469/469 [==============================] - 3s 6ms/step - loss: 0.3574 - accuracy: 0.8721\n",
            "Epoch 34/100\n",
            "469/469 [==============================] - 2s 4ms/step - loss: 0.3541 - accuracy: 0.8730\n",
            "Epoch 35/100\n",
            "469/469 [==============================] - 2s 4ms/step - loss: 0.3530 - accuracy: 0.8741\n",
            "Epoch 36/100\n",
            "469/469 [==============================] - 2s 4ms/step - loss: 0.3520 - accuracy: 0.8736\n",
            "Epoch 37/100\n",
            "469/469 [==============================] - 2s 4ms/step - loss: 0.3500 - accuracy: 0.8743\n",
            "Epoch 38/100\n",
            "469/469 [==============================] - 2s 4ms/step - loss: 0.3506 - accuracy: 0.8745\n",
            "Epoch 39/100\n",
            "469/469 [==============================] - 2s 3ms/step - loss: 0.3506 - accuracy: 0.8744\n",
            "Epoch 40/100\n",
            "469/469 [==============================] - 3s 6ms/step - loss: 0.3485 - accuracy: 0.8758\n",
            "Epoch 41/100\n",
            "469/469 [==============================] - 2s 4ms/step - loss: 0.3473 - accuracy: 0.8755\n",
            "Epoch 42/100\n",
            "469/469 [==============================] - 2s 4ms/step - loss: 0.3472 - accuracy: 0.8768\n",
            "Epoch 43/100\n",
            "469/469 [==============================] - 2s 3ms/step - loss: 0.3466 - accuracy: 0.8749\n",
            "Epoch 44/100\n",
            "469/469 [==============================] - 2s 3ms/step - loss: 0.3463 - accuracy: 0.8755\n",
            "Epoch 45/100\n",
            "469/469 [==============================] - 2s 4ms/step - loss: 0.3456 - accuracy: 0.8760\n",
            "Epoch 46/100\n",
            "469/469 [==============================] - 2s 4ms/step - loss: 0.3441 - accuracy: 0.8765\n",
            "Epoch 47/100\n",
            "469/469 [==============================] - 3s 6ms/step - loss: 0.3436 - accuracy: 0.8764\n",
            "Epoch 48/100\n",
            "469/469 [==============================] - 2s 4ms/step - loss: 0.3421 - accuracy: 0.8763\n",
            "Epoch 49/100\n",
            "469/469 [==============================] - 2s 3ms/step - loss: 0.3424 - accuracy: 0.8770\n",
            "Epoch 50/100\n",
            "469/469 [==============================] - 2s 4ms/step - loss: 0.3412 - accuracy: 0.8773\n",
            "Epoch 51/100\n",
            "469/469 [==============================] - 2s 3ms/step - loss: 0.3418 - accuracy: 0.8765\n",
            "Epoch 52/100\n",
            "469/469 [==============================] - 2s 4ms/step - loss: 0.3410 - accuracy: 0.8777\n",
            "Epoch 53/100\n",
            "469/469 [==============================] - 2s 4ms/step - loss: 0.3407 - accuracy: 0.8778\n",
            "Epoch 54/100\n",
            "469/469 [==============================] - 2s 5ms/step - loss: 0.3398 - accuracy: 0.8776\n",
            "Epoch 55/100\n",
            "469/469 [==============================] - 2s 5ms/step - loss: 0.3395 - accuracy: 0.8779\n",
            "Epoch 56/100\n",
            "469/469 [==============================] - 2s 4ms/step - loss: 0.3376 - accuracy: 0.8787\n",
            "Epoch 57/100\n",
            "469/469 [==============================] - 2s 4ms/step - loss: 0.3372 - accuracy: 0.8787\n",
            "Epoch 58/100\n",
            "469/469 [==============================] - 2s 4ms/step - loss: 0.3375 - accuracy: 0.8787\n",
            "Epoch 59/100\n",
            "469/469 [==============================] - 2s 4ms/step - loss: 0.3379 - accuracy: 0.8780\n",
            "Epoch 60/100\n",
            "469/469 [==============================] - 2s 4ms/step - loss: 0.3362 - accuracy: 0.8805\n",
            "Epoch 61/100\n",
            "469/469 [==============================] - 3s 6ms/step - loss: 0.3358 - accuracy: 0.8787\n",
            "Epoch 62/100\n",
            "469/469 [==============================] - 2s 4ms/step - loss: 0.3344 - accuracy: 0.8802\n",
            "Epoch 63/100\n",
            "469/469 [==============================] - 2s 3ms/step - loss: 0.3349 - accuracy: 0.8789\n",
            "Epoch 64/100\n",
            "469/469 [==============================] - 2s 4ms/step - loss: 0.3339 - accuracy: 0.8804\n",
            "Epoch 65/100\n",
            "469/469 [==============================] - 2s 4ms/step - loss: 0.3343 - accuracy: 0.8791\n",
            "Epoch 66/100\n",
            "469/469 [==============================] - 2s 4ms/step - loss: 0.3344 - accuracy: 0.8786\n",
            "Epoch 67/100\n",
            "469/469 [==============================] - 2s 4ms/step - loss: 0.3338 - accuracy: 0.8805\n",
            "Epoch 68/100\n",
            "469/469 [==============================] - 3s 6ms/step - loss: 0.3330 - accuracy: 0.8796\n",
            "Epoch 69/100\n",
            "469/469 [==============================] - 2s 4ms/step - loss: 0.3320 - accuracy: 0.8800\n",
            "Epoch 70/100\n",
            "469/469 [==============================] - 2s 4ms/step - loss: 0.3322 - accuracy: 0.8803\n",
            "Epoch 71/100\n",
            "469/469 [==============================] - 2s 5ms/step - loss: 0.3301 - accuracy: 0.8806\n",
            "Epoch 72/100\n",
            "469/469 [==============================] - 2s 4ms/step - loss: 0.3309 - accuracy: 0.8809\n",
            "Epoch 73/100\n",
            "469/469 [==============================] - 2s 4ms/step - loss: 0.3315 - accuracy: 0.8810\n",
            "Epoch 74/100\n",
            "469/469 [==============================] - 3s 6ms/step - loss: 0.3311 - accuracy: 0.8811\n",
            "Epoch 75/100\n",
            "469/469 [==============================] - 2s 4ms/step - loss: 0.3302 - accuracy: 0.8810\n",
            "Epoch 76/100\n",
            "469/469 [==============================] - 2s 4ms/step - loss: 0.3309 - accuracy: 0.8798\n",
            "Epoch 77/100\n",
            "469/469 [==============================] - 2s 4ms/step - loss: 0.3296 - accuracy: 0.8817\n",
            "Epoch 78/100\n",
            "469/469 [==============================] - 2s 4ms/step - loss: 0.3282 - accuracy: 0.8820\n",
            "Epoch 79/100\n",
            "469/469 [==============================] - 2s 3ms/step - loss: 0.3286 - accuracy: 0.8814\n",
            "Epoch 80/100\n",
            "469/469 [==============================] - 2s 4ms/step - loss: 0.3286 - accuracy: 0.8812\n",
            "Epoch 81/100\n",
            "469/469 [==============================] - 3s 6ms/step - loss: 0.3281 - accuracy: 0.8810\n",
            "Epoch 82/100\n",
            "469/469 [==============================] - 2s 3ms/step - loss: 0.3277 - accuracy: 0.8823\n",
            "Epoch 83/100\n",
            "469/469 [==============================] - 2s 3ms/step - loss: 0.3264 - accuracy: 0.8821\n",
            "Epoch 84/100\n",
            "469/469 [==============================] - 2s 4ms/step - loss: 0.3269 - accuracy: 0.8819\n",
            "Epoch 85/100\n",
            "469/469 [==============================] - 2s 4ms/step - loss: 0.3263 - accuracy: 0.8828\n",
            "Epoch 86/100\n",
            "469/469 [==============================] - 2s 4ms/step - loss: 0.3262 - accuracy: 0.8831\n",
            "Epoch 87/100\n",
            "469/469 [==============================] - 2s 4ms/step - loss: 0.3272 - accuracy: 0.8821\n",
            "Epoch 88/100\n",
            "469/469 [==============================] - 3s 6ms/step - loss: 0.3268 - accuracy: 0.8823\n",
            "Epoch 89/100\n",
            "469/469 [==============================] - 2s 4ms/step - loss: 0.3247 - accuracy: 0.8830\n",
            "Epoch 90/100\n",
            "469/469 [==============================] - 2s 4ms/step - loss: 0.3247 - accuracy: 0.8831\n",
            "Epoch 91/100\n",
            "469/469 [==============================] - 2s 4ms/step - loss: 0.3252 - accuracy: 0.8835\n",
            "Epoch 92/100\n",
            "469/469 [==============================] - 2s 4ms/step - loss: 0.3240 - accuracy: 0.8828\n",
            "Epoch 93/100\n",
            "469/469 [==============================] - 2s 4ms/step - loss: 0.3252 - accuracy: 0.8823\n",
            "Epoch 94/100\n",
            "469/469 [==============================] - 2s 4ms/step - loss: 0.3245 - accuracy: 0.8830\n",
            "Epoch 95/100\n",
            "469/469 [==============================] - 3s 6ms/step - loss: 0.3249 - accuracy: 0.8822\n",
            "Epoch 96/100\n",
            "469/469 [==============================] - 2s 3ms/step - loss: 0.3243 - accuracy: 0.8823\n",
            "Epoch 97/100\n",
            "469/469 [==============================] - 2s 4ms/step - loss: 0.3246 - accuracy: 0.8827\n",
            "Epoch 98/100\n",
            "469/469 [==============================] - 2s 4ms/step - loss: 0.3237 - accuracy: 0.8826\n",
            "Epoch 99/100\n",
            "469/469 [==============================] - 2s 3ms/step - loss: 0.3229 - accuracy: 0.8837\n",
            "Epoch 100/100\n",
            "469/469 [==============================] - 2s 3ms/step - loss: 0.3229 - accuracy: 0.8840\n"
          ]
        },
        {
          "output_type": "execute_result",
          "data": {
            "text/plain": [
              "<keras.callbacks.History at 0x7f0d18f4d180>"
            ]
          },
          "metadata": {},
          "execution_count": 22
        }
      ],
      "source": [
        "import os\n",
        "\n",
        "#https://stackoverflow.com/questions/53014306/error-15-initializing-libiomp5-dylib-but-found-libiomp5-dylib-already-initial\n",
        "# os.environ['KMP_DUPLICATE_LIB_OK']='True' \n",
        "\n",
        "# TODO: Compile and fit your model\n",
        "model = my_model(X_train_norm.shape[1])\n",
        "model.compile(optimizer='adam', loss='categorical_crossentropy', metrics=['accuracy'])\n",
        "model.fit(X_train_norm, y_train_cat, epochs=100, batch_size=128)"
      ]
    },
    {
      "cell_type": "markdown",
      "metadata": {
        "id": "Bdq95hgPUZyR"
      },
      "source": [
        "Once your model has been trained, compute the accuracy (and other metrics if you want) on the train and test dataset.\n",
        "\n",
        "Be careful, Keras returns softmax output (so an array of 10 values between 0 and 1, for which the sum is equal to 1). To compute correctly the accuracy, you have to convert that array into a categorical array with zeros and a 1."
      ]
    },
    {
      "cell_type": "code",
      "execution_count": 27,
      "metadata": {
        "colab": {
          "base_uri": "https://localhost:8080/"
        },
        "id": "Ty9hDA8CUZyS",
        "outputId": "0d8d2b61-b70c-49ae-ce51-c3569170e7e7"
      },
      "outputs": [
        {
          "output_type": "stream",
          "name": "stdout",
          "text": [
            "accuracy on train with NN: 0.885283350944519\n",
            "accuracy on test with NN: 0.8457000255584717\n"
          ]
        }
      ],
      "source": [
        "# TODO: Compute the accuracy of your model\n",
        "print('accuracy on train with NN:', model.evaluate(X_train_norm, y_train_cat, verbose=0)[1])\n",
        "print('accuracy on test with NN:', model.evaluate(X_test_norm, y_test_cat, verbose=0)[1])"
      ]
    },
    {
      "cell_type": "markdown",
      "metadata": {
        "id": "0aZB_q7YUZyU"
      },
      "source": [
        "What do you think of those results? Can you improve it by changing the number of layers? Of units per layer? The number of epochs? The activation functions?\n",
        "\n",
        "You should try!"
      ]
    },
    {
      "cell_type": "markdown",
      "metadata": {
        "id": "sYJzhqLxUZyU"
      },
      "source": [
        "---"
      ]
    },
    {
      "cell_type": "markdown",
      "metadata": {
        "id": "cNro_L8QUZyW"
      },
      "source": [
        "In order to compare your results with more traditional machine learning methods, you will do this work with another method: a PCA followed by a classification model (of your choice). Of course, you can perform hyperparameter optimization using a gridsearch on that model!\n",
        "\n",
        "Fit your model and display the performances."
      ]
    },
    {
      "cell_type": "code",
      "execution_count": 28,
      "metadata": {
        "id": "-DM2khkqUZyX"
      },
      "outputs": [],
      "source": [
        "# TODO: Redo the classification with PCA and classification model\n",
        "from sklearn.decomposition import PCA\n",
        "\n",
        "pca = PCA(n_components=0.95, random_state=42)\n",
        "\n",
        "pca.fit(X_train_norm)\n",
        "X_train_pca = pca.transform(X_train_norm)\n",
        "X_test_pca = pca.transform(X_test_norm)"
      ]
    },
    {
      "cell_type": "code",
      "execution_count": 29,
      "metadata": {
        "colab": {
          "base_uri": "https://localhost:8080/"
        },
        "id": "qr4cTCFtUZyY",
        "outputId": "92ec2f83-2741-4176-d9a6-b13faac58075"
      },
      "outputs": [
        {
          "output_type": "stream",
          "name": "stdout",
          "text": [
            "score with RF on train 1.0\n",
            "score with RF on train 0.8573\n"
          ]
        }
      ],
      "source": [
        "# TODO: use any classifier you want\n",
        "from sklearn.ensemble import RandomForestClassifier\n",
        "\n",
        "rf = RandomForestClassifier(n_estimators=100, random_state=42)\n",
        "\n",
        "rf.fit(X_train_pca, y_train)\n",
        "\n",
        "print('score with RF on train', rf.score(X_train_pca, y_train))\n",
        "print('score with RF on train', rf.score(X_test_pca, y_test))"
      ]
    },
    {
      "cell_type": "markdown",
      "metadata": {
        "id": "10OCu-T2UZyZ"
      },
      "source": [
        "Are the performances different? Can you explain why?"
      ]
    },
    {
      "cell_type": "markdown",
      "metadata": {
        "id": "kSGJ_3bDUZya"
      },
      "source": [
        "If you still have time, you could try to use scikit-learn's `Pipeline` to perform the hyperparameter optimization jointly on the PCA and the classification model. This might improve your performances."
      ]
    }
  ],
  "metadata": {
    "kernelspec": {
      "display_name": "Python 3",
      "language": "python",
      "name": "python3"
    },
    "language_info": {
      "codemirror_mode": {
        "name": "ipython",
        "version": 3
      },
      "file_extension": ".py",
      "mimetype": "text/x-python",
      "name": "python",
      "nbconvert_exporter": "python",
      "pygments_lexer": "ipython3",
      "version": "3.7.4"
    },
    "toc": {
      "base_numbering": 1,
      "nav_menu": {},
      "number_sections": true,
      "sideBar": true,
      "skip_h1_title": false,
      "title_cell": "Table of Contents",
      "title_sidebar": "Contents",
      "toc_cell": false,
      "toc_position": {},
      "toc_section_display": true,
      "toc_window_display": false
    },
    "colab": {
      "provenance": []
    }
  },
  "nbformat": 4,
  "nbformat_minor": 0
}