{
  "cells": [
    {
      "cell_type": "markdown",
      "metadata": {
        "id": "EDbJWoO1yO8e"
      },
      "source": [
        "# Image Classification with CNN - LeNet5 architecture"
      ]
    },
    {
      "cell_type": "markdown",
      "metadata": {
        "id": "JzQxqD6HyO8i"
      },
      "source": [
        "In this exercise, we will apply the LeNet5 algorithm to the Fashion MNIST dataset and improve your performances."
      ]
    },
    {
      "cell_type": "markdown",
      "metadata": {
        "id": "XFyVotRvyO8j"
      },
      "source": [
        "We will first download the data:"
      ]
    },
    {
      "cell_type": "code",
      "execution_count": 16,
      "metadata": {
        "colab": {
          "base_uri": "https://localhost:8080/"
        },
        "id": "RTHLyL1fyO8j",
        "outputId": "5fc164bb-bd87-4bb5-c812-6f794feb0ef3",
        "scrolled": true
      },
      "outputs": [
        {
          "output_type": "execute_result",
          "data": {
            "text/plain": [
              "(60000, 28, 28)"
            ]
          },
          "metadata": {},
          "execution_count": 16
        }
      ],
      "source": [
        "# TODO: Load the dataset\n",
        "from tensorflow.keras.datasets import fashion_mnist\n",
        "\n",
        "(X_train, y_train), (X_test, y_test) = fashion_mnist.load_data()\n",
        "\n",
        "# # If your computer is slow, try to use a subset of data, e.g.\n",
        "# X_train = X_train[:10000]\n",
        "# y_train = y_train[:10000]\n",
        "# X_test = X_test[:2000]\n",
        "# y_test = y_test[:2000]\n",
        "X_train.shape"
      ]
    },
    {
      "cell_type": "markdown",
      "metadata": {
        "id": "c8ShXIANyO8l"
      },
      "source": [
        "As you already know, this dataset contains 10 classes:\n",
        "* 0:\tT-shirt/top\n",
        "* 1:\tTrouser\n",
        "* 2:\tPullover\n",
        "* 3:\tDress\n",
        "* 4:\tCoat\n",
        "* 5:\tSandal\n",
        "* 6:\tShirt\n",
        "* 7:\tSneaker\n",
        "* 8:\tBag\n",
        "* 9:\tAnkle boot"
      ]
    },
    {
      "cell_type": "markdown",
      "metadata": {
        "id": "_BvNG0PbyO8l"
      },
      "source": [
        "You can have a look at some images if needed, even if you already know them."
      ]
    },
    {
      "cell_type": "code",
      "execution_count": 17,
      "metadata": {
        "colab": {
          "base_uri": "https://localhost:8080/",
          "height": 428
        },
        "id": "lnjqgv-GyO8m",
        "outputId": "24e71d4d-2bc8-439f-e77f-43a851c4b0ae",
        "scrolled": true
      },
      "outputs": [
        {
          "output_type": "display_data",
          "data": {
            "text/plain": [
              "<Figure size 640x480 with 1 Axes>"
            ],
            "image/png": "[encoded data removed]"
          },
          "metadata": {}
        }
      ],
      "source": [
        "# TODO: Explore the data, display some input images\n",
        "%matplotlib inline\n",
        "import matplotlib.pyplot as plt\n",
        "import numpy as np\n",
        "\n",
        "label_class = ['top', 'trouser', 'pullover', 'dress', 'coat', 'sandal', 'shirt', 'sneaker', 'bag', 'ankle boot']\n",
        "\n",
        "idx = np.random.randint(X_train.shape[0])\n",
        "\n",
        "plt.imshow(X_train[idx], cmap='gray')\n",
        "plt.title(label_class[y_train[idx]])\n",
        "plt.axis('off')\n",
        "plt.show()"
      ]
    },
    {
      "cell_type": "markdown",
      "metadata": {
        "id": "AdYH6XW1yO8n"
      },
      "source": [
        "Make the data preparation and preprocessing: scale and reshape the data, put the labels to the good shape."
      ]
    },
    {
      "cell_type": "code",
      "execution_count": 18,
      "metadata": {
        "id": "fjv8XMPByO8o",
        "colab": {
          "base_uri": "https://localhost:8080/"
        },
        "outputId": "90162f93-fd69-4b07-d0c5-aec9085ad27b"
      },
      "outputs": [
        {
          "output_type": "stream",
          "name": "stdout",
          "text": [
            "(60000, 28, 28, 1)\n"
          ]
        }
      ],
      "source": [
        "# TODO: Make the data preparation\n",
        "from tensorflow.keras.utils import to_categorical\n",
        "\n",
        "X_train_norm = X_train / 255.0\n",
        "X_test_norm = X_test / 255.0\n",
        "\n",
        "X_train_norm = np.expand_dims(X_train_norm, axis=-1)\n",
        "X_test_norm = np.expand_dims(X_test_norm, axis=-1)\n",
        "\n",
        "y_train_cat = to_categorical(y_train, num_classes=10)\n",
        "y_test_cat = to_categorical(y_test, num_classes=10)\n",
        "\n",
        "print(X_train_norm.shape) # expected outcome: (60000, 28, 28, 1)"
      ]
    },
    {
      "cell_type": "markdown",
      "metadata": {
        "id": "y9LKzxR9yO8o"
      },
      "source": [
        "Now build the LeNet5 architecture. You can reuse the one of the course, or try to build it by yourself.\n",
        "\n",
        "The architecture is the following:\n",
        "\n",
        "<p align=\"center\">\n",
        "<img src=\"https://drive.google.com/uc?export=view&id=1WteTU2FPIVMkBKmMxGpFm5OjsX-szTbB\">\n",
        "</p>"
      ]
    },
    {
      "cell_type": "code",
      "execution_count": 19,
      "metadata": {
        "id": "GKyMFlL6yO8o"
      },
      "outputs": [],
      "source": [
        "# TODO: Build your model\n",
        "from tensorflow.keras.models import Sequential\n",
        "from tensorflow.keras.layers import MaxPooling2D, Conv2D, Flatten, Dense\n",
        "\n",
        "def lenet5():\n",
        "    \n",
        "    model = Sequential()\n",
        "\n",
        "    model.add(Conv2D(filters=6, name='C1', kernel_size=(3, 3), activation='relu', input_shape=(28,28,1)))\n",
        "    \n",
        "    model.add(MaxPooling2D(pool_size=(2, 2), name='S2'))\n",
        "    \n",
        "    model.add(Conv2D(filters=16, name='C3', kernel_size=(3, 3), activation='relu'))\n",
        "    \n",
        "    model.add(MaxPooling2D(pool_size=(2, 2), name='S4'))\n",
        "    \n",
        "    model.add(Flatten())\n",
        "    \n",
        "    model.add(Dense(units=120, name='C5', activation='relu'))\n",
        "    \n",
        "    model.add(Dense(units=84, name='F6', activation='relu'))\n",
        "    \n",
        "    model.add(Dense(units=10, activation = 'softmax'))\n",
        "    \n",
        "    return model\n"
      ]
    },
    {
      "cell_type": "markdown",
      "metadata": {
        "id": "i1qBEauqyO8p"
      },
      "source": [
        "Now compile and fit your model on your training data. Since this is a multiclass classification, the loss is not `binary_crossentropy` anymore, but `categorical_crossentropy`."
      ]
    },
    {
      "cell_type": "code",
      "execution_count": 20,
      "metadata": {
        "colab": {
          "base_uri": "https://localhost:8080/"
        },
        "id": "nPL3aKnyyO8p",
        "outputId": "950db0cf-e6cb-4650-fd54-471705d5bf3b",
        "scrolled": true
      },
      "outputs": [
        {
          "output_type": "stream",
          "name": "stdout",
          "text": [
            "Epoch 1/100\n",
            "30/30 [==============================] - 3s 25ms/step - loss: 1.6185 - accuracy: 0.4733 - val_loss: 0.9291 - val_accuracy: 0.6568\n",
            "Epoch 2/100\n",
            "30/30 [==============================] - 0s 14ms/step - loss: 0.7651 - accuracy: 0.7230 - val_loss: 0.6988 - val_accuracy: 0.7445\n",
            "Epoch 3/100\n",
            "30/30 [==============================] - 0s 12ms/step - loss: 0.6343 - accuracy: 0.7632 - val_loss: 0.6135 - val_accuracy: 0.7734\n",
            "Epoch 4/100\n",
            "30/30 [==============================] - 0s 13ms/step - loss: 0.5641 - accuracy: 0.7876 - val_loss: 0.5626 - val_accuracy: 0.7916\n",
            "Epoch 5/100\n",
            "30/30 [==============================] - 0s 13ms/step - loss: 0.5209 - accuracy: 0.8065 - val_loss: 0.5293 - val_accuracy: 0.8027\n",
            "Epoch 6/100\n",
            "30/30 [==============================] - 0s 12ms/step - loss: 0.4904 - accuracy: 0.8182 - val_loss: 0.4972 - val_accuracy: 0.8132\n",
            "Epoch 7/100\n",
            "30/30 [==============================] - 0s 11ms/step - loss: 0.4644 - accuracy: 0.8298 - val_loss: 0.4743 - val_accuracy: 0.8264\n",
            "Epoch 8/100\n",
            "30/30 [==============================] - 0s 11ms/step - loss: 0.4469 - accuracy: 0.8368 - val_loss: 0.4595 - val_accuracy: 0.8373\n",
            "Epoch 9/100\n",
            "30/30 [==============================] - 0s 11ms/step - loss: 0.4280 - accuracy: 0.8448 - val_loss: 0.4495 - val_accuracy: 0.8358\n",
            "Epoch 10/100\n",
            "30/30 [==============================] - 0s 14ms/step - loss: 0.4163 - accuracy: 0.8490 - val_loss: 0.4321 - val_accuracy: 0.8452\n",
            "Epoch 11/100\n",
            "30/30 [==============================] - 0s 13ms/step - loss: 0.4045 - accuracy: 0.8534 - val_loss: 0.4289 - val_accuracy: 0.8443\n",
            "Epoch 12/100\n",
            "30/30 [==============================] - 0s 13ms/step - loss: 0.3944 - accuracy: 0.8563 - val_loss: 0.4147 - val_accuracy: 0.8491\n",
            "Epoch 13/100\n",
            "30/30 [==============================] - 0s 12ms/step - loss: 0.3859 - accuracy: 0.8597 - val_loss: 0.4176 - val_accuracy: 0.8504\n",
            "Epoch 14/100\n",
            "30/30 [==============================] - 0s 13ms/step - loss: 0.3782 - accuracy: 0.8625 - val_loss: 0.4083 - val_accuracy: 0.8498\n",
            "Epoch 15/100\n",
            "30/30 [==============================] - 0s 11ms/step - loss: 0.3721 - accuracy: 0.8640 - val_loss: 0.3868 - val_accuracy: 0.8615\n",
            "Epoch 16/100\n",
            "30/30 [==============================] - 0s 13ms/step - loss: 0.3615 - accuracy: 0.8693 - val_loss: 0.3884 - val_accuracy: 0.8610\n",
            "Epoch 17/100\n",
            "30/30 [==============================] - 0s 12ms/step - loss: 0.3572 - accuracy: 0.8701 - val_loss: 0.3895 - val_accuracy: 0.8557\n",
            "Epoch 18/100\n",
            "30/30 [==============================] - 0s 13ms/step - loss: 0.3506 - accuracy: 0.8714 - val_loss: 0.3709 - val_accuracy: 0.8688\n",
            "Epoch 19/100\n",
            "30/30 [==============================] - 0s 13ms/step - loss: 0.3454 - accuracy: 0.8744 - val_loss: 0.3800 - val_accuracy: 0.8643\n",
            "Epoch 20/100\n",
            "30/30 [==============================] - 0s 12ms/step - loss: 0.3437 - accuracy: 0.8754 - val_loss: 0.3998 - val_accuracy: 0.8518\n",
            "Epoch 21/100\n",
            "30/30 [==============================] - 0s 13ms/step - loss: 0.3474 - accuracy: 0.8718 - val_loss: 0.3597 - val_accuracy: 0.8718\n",
            "Epoch 22/100\n",
            "30/30 [==============================] - 0s 12ms/step - loss: 0.3303 - accuracy: 0.8801 - val_loss: 0.3594 - val_accuracy: 0.8728\n",
            "Epoch 23/100\n",
            "30/30 [==============================] - 0s 13ms/step - loss: 0.3273 - accuracy: 0.8809 - val_loss: 0.3574 - val_accuracy: 0.8720\n",
            "Epoch 24/100\n",
            "30/30 [==============================] - 0s 13ms/step - loss: 0.3262 - accuracy: 0.8801 - val_loss: 0.3551 - val_accuracy: 0.8723\n",
            "Epoch 25/100\n",
            "30/30 [==============================] - 0s 13ms/step - loss: 0.3192 - accuracy: 0.8831 - val_loss: 0.3501 - val_accuracy: 0.8759\n",
            "Epoch 26/100\n",
            "30/30 [==============================] - 0s 12ms/step - loss: 0.3172 - accuracy: 0.8836 - val_loss: 0.3475 - val_accuracy: 0.8784\n",
            "Epoch 27/100\n",
            "30/30 [==============================] - 0s 14ms/step - loss: 0.3130 - accuracy: 0.8855 - val_loss: 0.3548 - val_accuracy: 0.8715\n",
            "Epoch 28/100\n",
            "30/30 [==============================] - 0s 14ms/step - loss: 0.3112 - accuracy: 0.8860 - val_loss: 0.3453 - val_accuracy: 0.8773\n",
            "Epoch 29/100\n",
            "30/30 [==============================] - 0s 15ms/step - loss: 0.3087 - accuracy: 0.8868 - val_loss: 0.3410 - val_accuracy: 0.8788\n",
            "Epoch 30/100\n",
            "30/30 [==============================] - 0s 14ms/step - loss: 0.3060 - accuracy: 0.8888 - val_loss: 0.3415 - val_accuracy: 0.8783\n",
            "Epoch 31/100\n",
            "30/30 [==============================] - 0s 14ms/step - loss: 0.3018 - accuracy: 0.8897 - val_loss: 0.3431 - val_accuracy: 0.8785\n",
            "Epoch 32/100\n",
            "30/30 [==============================] - 0s 16ms/step - loss: 0.2963 - accuracy: 0.8926 - val_loss: 0.3423 - val_accuracy: 0.8785\n",
            "Epoch 33/100\n",
            "30/30 [==============================] - 0s 13ms/step - loss: 0.2950 - accuracy: 0.8923 - val_loss: 0.3364 - val_accuracy: 0.8788\n",
            "Epoch 34/100\n",
            "30/30 [==============================] - 0s 13ms/step - loss: 0.2980 - accuracy: 0.8911 - val_loss: 0.3314 - val_accuracy: 0.8797\n",
            "Epoch 35/100\n",
            "30/30 [==============================] - 0s 12ms/step - loss: 0.2901 - accuracy: 0.8927 - val_loss: 0.3349 - val_accuracy: 0.8778\n",
            "Epoch 36/100\n",
            "30/30 [==============================] - 0s 12ms/step - loss: 0.2902 - accuracy: 0.8932 - val_loss: 0.3335 - val_accuracy: 0.8794\n",
            "Epoch 37/100\n",
            "30/30 [==============================] - 0s 12ms/step - loss: 0.2866 - accuracy: 0.8941 - val_loss: 0.3342 - val_accuracy: 0.8790\n",
            "Epoch 38/100\n",
            "30/30 [==============================] - 0s 12ms/step - loss: 0.2837 - accuracy: 0.8955 - val_loss: 0.3291 - val_accuracy: 0.8820\n",
            "Epoch 39/100\n",
            "30/30 [==============================] - 0s 12ms/step - loss: 0.2851 - accuracy: 0.8952 - val_loss: 0.3299 - val_accuracy: 0.8817\n",
            "Epoch 40/100\n",
            "30/30 [==============================] - 0s 12ms/step - loss: 0.2786 - accuracy: 0.8981 - val_loss: 0.3265 - val_accuracy: 0.8829\n",
            "Epoch 41/100\n",
            "30/30 [==============================] - 0s 13ms/step - loss: 0.2789 - accuracy: 0.8969 - val_loss: 0.3234 - val_accuracy: 0.8836\n",
            "Epoch 42/100\n",
            "30/30 [==============================] - 0s 13ms/step - loss: 0.2732 - accuracy: 0.9003 - val_loss: 0.3204 - val_accuracy: 0.8845\n",
            "Epoch 43/100\n",
            "30/30 [==============================] - 0s 13ms/step - loss: 0.2724 - accuracy: 0.9008 - val_loss: 0.3206 - val_accuracy: 0.8856\n",
            "Epoch 44/100\n",
            "30/30 [==============================] - 0s 12ms/step - loss: 0.2709 - accuracy: 0.9007 - val_loss: 0.3289 - val_accuracy: 0.8815\n",
            "Epoch 45/100\n",
            "30/30 [==============================] - 0s 13ms/step - loss: 0.2713 - accuracy: 0.9011 - val_loss: 0.3161 - val_accuracy: 0.8874\n",
            "Epoch 46/100\n",
            "30/30 [==============================] - 0s 13ms/step - loss: 0.2636 - accuracy: 0.9038 - val_loss: 0.3196 - val_accuracy: 0.8856\n",
            "Epoch 47/100\n",
            "30/30 [==============================] - 0s 13ms/step - loss: 0.2629 - accuracy: 0.9030 - val_loss: 0.3232 - val_accuracy: 0.8825\n",
            "Epoch 48/100\n",
            "30/30 [==============================] - 0s 13ms/step - loss: 0.2633 - accuracy: 0.9033 - val_loss: 0.3175 - val_accuracy: 0.8882\n",
            "Epoch 49/100\n",
            "30/30 [==============================] - 0s 13ms/step - loss: 0.2625 - accuracy: 0.9032 - val_loss: 0.3116 - val_accuracy: 0.8896\n",
            "Epoch 50/100\n",
            "30/30 [==============================] - 0s 12ms/step - loss: 0.2577 - accuracy: 0.9055 - val_loss: 0.3110 - val_accuracy: 0.8891\n",
            "Epoch 51/100\n",
            "30/30 [==============================] - 0s 13ms/step - loss: 0.2561 - accuracy: 0.9054 - val_loss: 0.3075 - val_accuracy: 0.8903\n",
            "Epoch 52/100\n",
            "30/30 [==============================] - 0s 13ms/step - loss: 0.2517 - accuracy: 0.9075 - val_loss: 0.3130 - val_accuracy: 0.8902\n",
            "Epoch 53/100\n",
            "30/30 [==============================] - 0s 13ms/step - loss: 0.2545 - accuracy: 0.9058 - val_loss: 0.3201 - val_accuracy: 0.8845\n",
            "Epoch 54/100\n",
            "30/30 [==============================] - 0s 12ms/step - loss: 0.2512 - accuracy: 0.9072 - val_loss: 0.3149 - val_accuracy: 0.8879\n",
            "Epoch 55/100\n",
            "30/30 [==============================] - 0s 12ms/step - loss: 0.2509 - accuracy: 0.9076 - val_loss: 0.3028 - val_accuracy: 0.8927\n",
            "Epoch 56/100\n",
            "30/30 [==============================] - 0s 12ms/step - loss: 0.2467 - accuracy: 0.9088 - val_loss: 0.3148 - val_accuracy: 0.8867\n",
            "Epoch 57/100\n",
            "30/30 [==============================] - 0s 12ms/step - loss: 0.2502 - accuracy: 0.9061 - val_loss: 0.3131 - val_accuracy: 0.8871\n",
            "Epoch 58/100\n",
            "30/30 [==============================] - 0s 12ms/step - loss: 0.2472 - accuracy: 0.9089 - val_loss: 0.3035 - val_accuracy: 0.8921\n",
            "Epoch 59/100\n",
            "30/30 [==============================] - 0s 14ms/step - loss: 0.2420 - accuracy: 0.9111 - val_loss: 0.3058 - val_accuracy: 0.8887\n",
            "Epoch 60/100\n",
            "30/30 [==============================] - 0s 15ms/step - loss: 0.2411 - accuracy: 0.9107 - val_loss: 0.3024 - val_accuracy: 0.8912\n",
            "Epoch 61/100\n",
            "30/30 [==============================] - 0s 14ms/step - loss: 0.2443 - accuracy: 0.9094 - val_loss: 0.3051 - val_accuracy: 0.8915\n",
            "Epoch 62/100\n",
            "30/30 [==============================] - 0s 14ms/step - loss: 0.2364 - accuracy: 0.9128 - val_loss: 0.2979 - val_accuracy: 0.8942\n",
            "Epoch 63/100\n",
            "30/30 [==============================] - 0s 15ms/step - loss: 0.2338 - accuracy: 0.9147 - val_loss: 0.3101 - val_accuracy: 0.8902\n",
            "Epoch 64/100\n",
            "30/30 [==============================] - 0s 16ms/step - loss: 0.2352 - accuracy: 0.9136 - val_loss: 0.3037 - val_accuracy: 0.8934\n",
            "Epoch 65/100\n",
            "30/30 [==============================] - 0s 12ms/step - loss: 0.2333 - accuracy: 0.9144 - val_loss: 0.3129 - val_accuracy: 0.8850\n",
            "Epoch 66/100\n",
            "30/30 [==============================] - 0s 13ms/step - loss: 0.2348 - accuracy: 0.9138 - val_loss: 0.2972 - val_accuracy: 0.8921\n",
            "Epoch 67/100\n",
            "30/30 [==============================] - 0s 12ms/step - loss: 0.2340 - accuracy: 0.9134 - val_loss: 0.3081 - val_accuracy: 0.8881\n",
            "Epoch 68/100\n",
            "30/30 [==============================] - 0s 11ms/step - loss: 0.2300 - accuracy: 0.9151 - val_loss: 0.2964 - val_accuracy: 0.8935\n",
            "Epoch 69/100\n",
            "30/30 [==============================] - 0s 11ms/step - loss: 0.2265 - accuracy: 0.9168 - val_loss: 0.2962 - val_accuracy: 0.8932\n",
            "Epoch 70/100\n",
            "30/30 [==============================] - 0s 12ms/step - loss: 0.2232 - accuracy: 0.9183 - val_loss: 0.3170 - val_accuracy: 0.8874\n",
            "Epoch 71/100\n",
            "30/30 [==============================] - 0s 13ms/step - loss: 0.2281 - accuracy: 0.9158 - val_loss: 0.2977 - val_accuracy: 0.8946\n",
            "Epoch 72/100\n",
            "30/30 [==============================] - 0s 13ms/step - loss: 0.2239 - accuracy: 0.9164 - val_loss: 0.3041 - val_accuracy: 0.8905\n",
            "Epoch 73/100\n",
            "30/30 [==============================] - 0s 13ms/step - loss: 0.2225 - accuracy: 0.9177 - val_loss: 0.3134 - val_accuracy: 0.8877\n",
            "Epoch 74/100\n",
            "30/30 [==============================] - 0s 13ms/step - loss: 0.2222 - accuracy: 0.9174 - val_loss: 0.3052 - val_accuracy: 0.8903\n",
            "Epoch 75/100\n",
            "30/30 [==============================] - 0s 12ms/step - loss: 0.2217 - accuracy: 0.9174 - val_loss: 0.3046 - val_accuracy: 0.8905\n",
            "Epoch 76/100\n",
            "30/30 [==============================] - 0s 12ms/step - loss: 0.2196 - accuracy: 0.9192 - val_loss: 0.3007 - val_accuracy: 0.8919\n",
            "Epoch 77/100\n",
            "30/30 [==============================] - 0s 12ms/step - loss: 0.2167 - accuracy: 0.9197 - val_loss: 0.2967 - val_accuracy: 0.8936\n",
            "Epoch 78/100\n",
            "30/30 [==============================] - 0s 13ms/step - loss: 0.2160 - accuracy: 0.9208 - val_loss: 0.2905 - val_accuracy: 0.8966\n",
            "Epoch 79/100\n",
            "30/30 [==============================] - 0s 12ms/step - loss: 0.2138 - accuracy: 0.9215 - val_loss: 0.2890 - val_accuracy: 0.8965\n",
            "Epoch 80/100\n",
            "30/30 [==============================] - 0s 13ms/step - loss: 0.2102 - accuracy: 0.9226 - val_loss: 0.2892 - val_accuracy: 0.8963\n",
            "Epoch 81/100\n",
            "30/30 [==============================] - 0s 13ms/step - loss: 0.2092 - accuracy: 0.9233 - val_loss: 0.2896 - val_accuracy: 0.8975\n",
            "Epoch 82/100\n",
            "30/30 [==============================] - 0s 13ms/step - loss: 0.2085 - accuracy: 0.9233 - val_loss: 0.3019 - val_accuracy: 0.8923\n",
            "Epoch 83/100\n",
            "30/30 [==============================] - 0s 12ms/step - loss: 0.2133 - accuracy: 0.9202 - val_loss: 0.2988 - val_accuracy: 0.8946\n",
            "Epoch 84/100\n",
            "30/30 [==============================] - 0s 13ms/step - loss: 0.2080 - accuracy: 0.9232 - val_loss: 0.2957 - val_accuracy: 0.8971\n",
            "Epoch 85/100\n",
            "30/30 [==============================] - 0s 13ms/step - loss: 0.2053 - accuracy: 0.9245 - val_loss: 0.2977 - val_accuracy: 0.8972\n",
            "Epoch 86/100\n",
            "30/30 [==============================] - 0s 13ms/step - loss: 0.2051 - accuracy: 0.9233 - val_loss: 0.2929 - val_accuracy: 0.8967\n",
            "Epoch 87/100\n",
            "30/30 [==============================] - 0s 13ms/step - loss: 0.2026 - accuracy: 0.9256 - val_loss: 0.2899 - val_accuracy: 0.8984\n",
            "Epoch 88/100\n",
            "30/30 [==============================] - 0s 12ms/step - loss: 0.2040 - accuracy: 0.9251 - val_loss: 0.2948 - val_accuracy: 0.8973\n",
            "Epoch 89/100\n",
            "30/30 [==============================] - 0s 13ms/step - loss: 0.2035 - accuracy: 0.9246 - val_loss: 0.2945 - val_accuracy: 0.8987\n"
          ]
        },
        {
          "output_type": "execute_result",
          "data": {
            "text/plain": [
              "<keras.callbacks.History at 0x7fe6b57a21a0>"
            ]
          },
          "metadata": {},
          "execution_count": 20
        }
      ],
      "source": [
        "# TODO: Compile and fit your model\n",
        "import os\n",
        "\n",
        "# os.environ['KMP_DUPLICATE_LIB_OK']='True' #https://stackoverflow.com/questions/53014306/error-15-initializing-libiomp5-dylib-but-found-libiomp5-dylib-already-initial\n",
        "\n",
        "\n",
        "from tensorflow.keras.callbacks import EarlyStopping\n",
        "from tensorflow.keras.callbacks import TensorBoard\n",
        "\n",
        "model = lenet5()\n",
        "\n",
        "model.compile(optimizer='adam', loss='categorical_crossentropy', metrics=['accuracy'])\n",
        "\n",
        "\n",
        "callbacks = [EarlyStopping(monitor='val_loss', patience=10)]\n",
        "\n",
        "\n",
        "model.fit(x=X_train_norm, y=y_train_cat, validation_data=(X_test_norm, y_test_cat), epochs=100, batch_size=2048, callbacks=callbacks)"
      ]
    },
    {
      "cell_type": "markdown",
      "metadata": {
        "id": "Rf-SqjjOyO8q"
      },
      "source": [
        "Have a look at the tensorboard and see if it gives a deeper understanding of your model."
      ]
    },
    {
      "cell_type": "markdown",
      "metadata": {
        "id": "k2FTj7TSyO8q"
      },
      "source": [
        "Compute then the accuracy of your model. Is it better than a regular MLP used before?"
      ]
    },
    {
      "cell_type": "code",
      "execution_count": 21,
      "metadata": {
        "colab": {
          "base_uri": "https://localhost:8080/"
        },
        "id": "rPjJoMQZyO8q",
        "outputId": "de3c7507-272e-430e-c1b1-17d231ef825c"
      },
      "outputs": [
        {
          "output_type": "stream",
          "name": "stdout",
          "text": [
            "1875/1875 [==============================] - 4s 2ms/step\n",
            "313/313 [==============================] - 1s 2ms/step\n",
            "accuracy on train with NN: 0.9263166666666667\n",
            "accuracy on test with NN: 0.8987\n"
          ]
        }
      ],
      "source": [
        "# TODO: Compute the accuracy of your model\n",
        "from sklearn.metrics import accuracy_score\n",
        "\n",
        "batch_size = 1024\n",
        "y_pred_train = to_categorical(model.predict(X_train_norm).argmax(axis=1), num_classes=10)\n",
        "y_pred_test = to_categorical(model.predict(X_test_norm).argmax(axis=1), num_classes=10)\n",
        "\n",
        "print('accuracy on train with NN:', accuracy_score(y_pred_train, y_train_cat))\n",
        "print('accuracy on test with NN:', accuracy_score(y_pred_test, y_test_cat))"
      ]
    },
    {
      "cell_type": "markdown",
      "metadata": {
        "id": "1vulsgHiyO8q"
      },
      "source": [
        "We will now add image augmentation to improve our results, especially we will try to reduce overfitting this way.\n",
        "\n",
        "To do so, you can use `ImageDataGenerator` from Keras that makes all the work for you (including rescaling), with the following parameter: \n",
        "* `horizontal_flip=True`\n",
        "\n",
        "For more info about how the `ImageDataGenerator` works, you can check out [this article](https://www.pyimagesearch.com/2019/07/08/keras-imagedatagenerator-and-data-augmentation/).\n",
        "\n",
        "Begin by creating an object `ImageDataGenerator` with this parameter."
      ]
    },
    {
      "cell_type": "code",
      "execution_count": 22,
      "metadata": {
        "ExecuteTime": {
          "end_time": "2020-08-19T11:58:37.442182Z",
          "start_time": "2020-08-19T11:58:37.438397Z"
        },
        "id": "pas-fMSIyO8q"
      },
      "outputs": [],
      "source": [
        "# TODO: Instantiate an ImageDataGenerator object\n",
        "from tensorflow.keras.preprocessing.image import ImageDataGenerator\n",
        "\n",
        "datagen = ImageDataGenerator(horizontal_flip=True)"
      ]
    },
    {
      "cell_type": "markdown",
      "metadata": {
        "id": "k7nCnu9syO8r"
      },
      "source": [
        "Finally, you can train your model using this generator, with the method `fit_generator` of your model and the method `flow` of your `ImageDataGenerator`."
      ]
    },
    {
      "cell_type": "code",
      "execution_count": 23,
      "metadata": {
        "colab": {
          "base_uri": "https://localhost:8080/"
        },
        "id": "Zt6wXa3IyO8r",
        "outputId": "3d508cd0-6835-4b4e-8f28-9acf41bc3da3",
        "scrolled": true
      },
      "outputs": [
        {
          "output_type": "stream",
          "name": "stdout",
          "text": [
            "Epoch 1/100\n"
          ]
        },
        {
          "output_type": "stream",
          "name": "stderr",
          "text": [
            "<ipython-input-23-5da9cbf7d7d8>:3: UserWarning: `Model.fit_generator` is deprecated and will be removed in a future version. Please use `Model.fit`, which supports generators.\n",
            "  model.fit_generator(datagen.flow(X_train_norm, y_train_cat, batch_size=batch_size),\n"
          ]
        },
        {
          "output_type": "stream",
          "name": "stdout",
          "text": [
            "58/58 [==============================] - 3s 44ms/step - loss: 0.4208 - accuracy: 0.8612 - val_loss: 0.3135 - val_accuracy: 0.8868\n",
            "Epoch 2/100\n",
            "58/58 [==============================] - 3s 48ms/step - loss: 0.2888 - accuracy: 0.8957 - val_loss: 0.2967 - val_accuracy: 0.8940\n",
            "Epoch 3/100\n",
            "58/58 [==============================] - 3s 60ms/step - loss: 0.2708 - accuracy: 0.9006 - val_loss: 0.2997 - val_accuracy: 0.8921\n",
            "Epoch 4/100\n",
            "58/58 [==============================] - 4s 60ms/step - loss: 0.2590 - accuracy: 0.9047 - val_loss: 0.2930 - val_accuracy: 0.8950\n",
            "Epoch 5/100\n",
            "58/58 [==============================] - 3s 53ms/step - loss: 0.2576 - accuracy: 0.9050 - val_loss: 0.2942 - val_accuracy: 0.8964\n",
            "Epoch 6/100\n",
            "58/58 [==============================] - 3s 50ms/step - loss: 0.2531 - accuracy: 0.9069 - val_loss: 0.2905 - val_accuracy: 0.8991\n",
            "Epoch 7/100\n",
            "58/58 [==============================] - 3s 43ms/step - loss: 0.2513 - accuracy: 0.9075 - val_loss: 0.2942 - val_accuracy: 0.8933\n",
            "Epoch 8/100\n",
            "58/58 [==============================] - 3s 44ms/step - loss: 0.2427 - accuracy: 0.9107 - val_loss: 0.2976 - val_accuracy: 0.8985\n",
            "Epoch 9/100\n",
            "58/58 [==============================] - 3s 52ms/step - loss: 0.2388 - accuracy: 0.9114 - val_loss: 0.2921 - val_accuracy: 0.8955\n",
            "Epoch 10/100\n",
            "58/58 [==============================] - 3s 43ms/step - loss: 0.2377 - accuracy: 0.9132 - val_loss: 0.2866 - val_accuracy: 0.8988\n",
            "Epoch 11/100\n",
            "58/58 [==============================] - 3s 55ms/step - loss: 0.2323 - accuracy: 0.9144 - val_loss: 0.2941 - val_accuracy: 0.8939\n",
            "Epoch 12/100\n",
            "58/58 [==============================] - 4s 60ms/step - loss: 0.2321 - accuracy: 0.9149 - val_loss: 0.2824 - val_accuracy: 0.9013\n",
            "Epoch 13/100\n",
            "58/58 [==============================] - 3s 55ms/step - loss: 0.2282 - accuracy: 0.9155 - val_loss: 0.2842 - val_accuracy: 0.8999\n",
            "Epoch 14/100\n",
            "58/58 [==============================] - 3s 55ms/step - loss: 0.2296 - accuracy: 0.9157 - val_loss: 0.2830 - val_accuracy: 0.9000\n",
            "Epoch 15/100\n",
            "58/58 [==============================] - 3s 52ms/step - loss: 0.2287 - accuracy: 0.9167 - val_loss: 0.2938 - val_accuracy: 0.8982\n",
            "Epoch 16/100\n",
            "58/58 [==============================] - 3s 57ms/step - loss: 0.2240 - accuracy: 0.9162 - val_loss: 0.2861 - val_accuracy: 0.8987\n",
            "Epoch 17/100\n",
            "58/58 [==============================] - 3s 44ms/step - loss: 0.2247 - accuracy: 0.9170 - val_loss: 0.2824 - val_accuracy: 0.9000\n",
            "Epoch 18/100\n",
            "58/58 [==============================] - 3s 60ms/step - loss: 0.2194 - accuracy: 0.9196 - val_loss: 0.2960 - val_accuracy: 0.8961\n",
            "Epoch 19/100\n",
            "58/58 [==============================] - 3s 56ms/step - loss: 0.2196 - accuracy: 0.9176 - val_loss: 0.2863 - val_accuracy: 0.9002\n",
            "Epoch 20/100\n",
            "58/58 [==============================] - 3s 45ms/step - loss: 0.2156 - accuracy: 0.9205 - val_loss: 0.2812 - val_accuracy: 0.9012\n",
            "Epoch 21/100\n",
            "58/58 [==============================] - 3s 54ms/step - loss: 0.2146 - accuracy: 0.9212 - val_loss: 0.2887 - val_accuracy: 0.8998\n",
            "Epoch 22/100\n",
            "58/58 [==============================] - 3s 48ms/step - loss: 0.2156 - accuracy: 0.9197 - val_loss: 0.2900 - val_accuracy: 0.8990\n",
            "Epoch 23/100\n",
            "58/58 [==============================] - 3s 46ms/step - loss: 0.2164 - accuracy: 0.9196 - val_loss: 0.2818 - val_accuracy: 0.9049\n",
            "Epoch 24/100\n",
            "58/58 [==============================] - 3s 55ms/step - loss: 0.2138 - accuracy: 0.9206 - val_loss: 0.2835 - val_accuracy: 0.9003\n",
            "Epoch 25/100\n",
            "58/58 [==============================] - 3s 53ms/step - loss: 0.2126 - accuracy: 0.9213 - val_loss: 0.2761 - val_accuracy: 0.9028\n",
            "Epoch 26/100\n",
            "58/58 [==============================] - 3s 45ms/step - loss: 0.2065 - accuracy: 0.9238 - val_loss: 0.2818 - val_accuracy: 0.9010\n",
            "Epoch 27/100\n",
            "58/58 [==============================] - 3s 45ms/step - loss: 0.2085 - accuracy: 0.9222 - val_loss: 0.2799 - val_accuracy: 0.9050\n",
            "Epoch 28/100\n",
            "58/58 [==============================] - 3s 43ms/step - loss: 0.2029 - accuracy: 0.9243 - val_loss: 0.2773 - val_accuracy: 0.9011\n",
            "Epoch 29/100\n",
            "58/58 [==============================] - 3s 55ms/step - loss: 0.2038 - accuracy: 0.9240 - val_loss: 0.2793 - val_accuracy: 0.9015\n",
            "Epoch 30/100\n",
            "58/58 [==============================] - 3s 54ms/step - loss: 0.2030 - accuracy: 0.9242 - val_loss: 0.2855 - val_accuracy: 0.9002\n",
            "Epoch 31/100\n",
            "58/58 [==============================] - 3s 55ms/step - loss: 0.2036 - accuracy: 0.9234 - val_loss: 0.2861 - val_accuracy: 0.8993\n",
            "Epoch 32/100\n",
            "58/58 [==============================] - 3s 55ms/step - loss: 0.1990 - accuracy: 0.9262 - val_loss: 0.2791 - val_accuracy: 0.9054\n",
            "Epoch 33/100\n",
            "58/58 [==============================] - 3s 47ms/step - loss: 0.1987 - accuracy: 0.9262 - val_loss: 0.2800 - val_accuracy: 0.9038\n",
            "Epoch 34/100\n",
            "58/58 [==============================] - 3s 44ms/step - loss: 0.1984 - accuracy: 0.9264 - val_loss: 0.2737 - val_accuracy: 0.9043\n",
            "Epoch 35/100\n",
            "58/58 [==============================] - 3s 46ms/step - loss: 0.1975 - accuracy: 0.9263 - val_loss: 0.2799 - val_accuracy: 0.9012\n",
            "Epoch 36/100\n",
            "58/58 [==============================] - 3s 55ms/step - loss: 0.1934 - accuracy: 0.9273 - val_loss: 0.2770 - val_accuracy: 0.9030\n",
            "Epoch 37/100\n",
            "58/58 [==============================] - 3s 54ms/step - loss: 0.1919 - accuracy: 0.9282 - val_loss: 0.2748 - val_accuracy: 0.9043\n",
            "Epoch 38/100\n",
            "58/58 [==============================] - 3s 45ms/step - loss: 0.1939 - accuracy: 0.9279 - val_loss: 0.2745 - val_accuracy: 0.9056\n",
            "Epoch 39/100\n",
            "58/58 [==============================] - 4s 60ms/step - loss: 0.1930 - accuracy: 0.9278 - val_loss: 0.2785 - val_accuracy: 0.9040\n",
            "Epoch 40/100\n",
            "58/58 [==============================] - 3s 43ms/step - loss: 0.1875 - accuracy: 0.9294 - val_loss: 0.2794 - val_accuracy: 0.9028\n",
            "Epoch 41/100\n",
            "58/58 [==============================] - 3s 44ms/step - loss: 0.1876 - accuracy: 0.9292 - val_loss: 0.2758 - val_accuracy: 0.9053\n",
            "Epoch 42/100\n",
            "58/58 [==============================] - 3s 44ms/step - loss: 0.1875 - accuracy: 0.9299 - val_loss: 0.2876 - val_accuracy: 0.8989\n",
            "Epoch 43/100\n",
            "58/58 [==============================] - 3s 43ms/step - loss: 0.1867 - accuracy: 0.9299 - val_loss: 0.2768 - val_accuracy: 0.9032\n",
            "Epoch 44/100\n",
            "58/58 [==============================] - 3s 46ms/step - loss: 0.1832 - accuracy: 0.9320 - val_loss: 0.2790 - val_accuracy: 0.9029\n"
          ]
        },
        {
          "output_type": "execute_result",
          "data": {
            "text/plain": [
              "<keras.callbacks.History at 0x7fe6c4117df0>"
            ]
          },
          "metadata": {},
          "execution_count": 23
        }
      ],
      "source": [
        "# TODO: train your model\n",
        "batch_size = 1024\n",
        "model.fit_generator(datagen.flow(X_train_norm, y_train_cat, batch_size=batch_size),\n",
        "                    validation_data=(X_test_norm, y_test_cat), callbacks=callbacks,\n",
        "                    steps_per_epoch=len(X_train_norm) / batch_size, epochs=100)"
      ]
    },
    {
      "cell_type": "markdown",
      "metadata": {
        "id": "NuzFke8pyO8r"
      },
      "source": [
        "Recompute the accuracy of your model, does it improve your performances with data augmentation?"
      ]
    },
    {
      "cell_type": "code",
      "execution_count": 24,
      "metadata": {
        "colab": {
          "base_uri": "https://localhost:8080/"
        },
        "id": "jsTm86tuyO8r",
        "outputId": "b5ac6f27-3076-40f8-854e-0274873fc736"
      },
      "outputs": [
        {
          "output_type": "stream",
          "name": "stdout",
          "text": [
            "1875/1875 [==============================] - 3s 2ms/step\n",
            "313/313 [==============================] - 1s 2ms/step\n",
            "accuracy on train with NN: 0.9371166666666667\n",
            "accuracy on test with NN: 0.9029\n"
          ]
        }
      ],
      "source": [
        "# TODO: Compute the accuracy of your model\n",
        "from sklearn.metrics import accuracy_score\n",
        "\n",
        "batch_size=1024\n",
        "y_pred_train = to_categorical(model.predict(X_train_norm).argmax(axis=1), num_classes=10)\n",
        "y_pred_test = to_categorical(model.predict(X_test_norm).argmax(axis=1), num_classes=10)\n",
        "\n",
        "print('accuracy on train with NN:', accuracy_score(y_pred_train, y_train_cat))\n",
        "print('accuracy on test with NN:', accuracy_score(y_pred_test, y_test_cat))"
      ]
    },
    {
      "cell_type": "markdown",
      "metadata": {
        "id": "jOzkdGf7yO8s"
      },
      "source": [
        "You can now try to improve even more your results. For example, add more parameters to your `ImageDataGenerator`, play with some hyperparameters, and so on..."
      ]
    }
  ],
  "metadata": {
    "accelerator": "GPU",
    "colab": {
      "provenance": []
    },
    "kernelspec": {
      "display_name": "Python 3",
      "language": "python",
      "name": "python3"
    },
    "language_info": {
      "codemirror_mode": {
        "name": "ipython",
        "version": 3
      },
      "file_extension": ".py",
      "mimetype": "text/x-python",
      "name": "python",
      "nbconvert_exporter": "python",
      "pygments_lexer": "ipython3",
      "version": "3.7.4"
    },
    "toc": {
      "base_numbering": 1,
      "nav_menu": {},
      "number_sections": true,
      "sideBar": true,
      "skip_h1_title": false,
      "title_cell": "Table of Contents",
      "title_sidebar": "Contents",
      "toc_cell": false,
      "toc_position": {},
      "toc_section_display": true,
      "toc_window_display": false
    },
    "varInspector": {
      "cols": {
        "lenName": 16,
        "lenType": 16,
        "lenVar": 40
      },
      "kernels_config": {
        "python": {
          "delete_cmd_postfix": "",
          "delete_cmd_prefix": "del ",
          "library": "var_list.py",
          "varRefreshCmd": "print(var_dic_list())"
        },
        "r": {
          "delete_cmd_postfix": ") ",
          "delete_cmd_prefix": "rm(",
          "library": "var_list.r",
          "varRefreshCmd": "cat(var_dic_list()) "
        }
      },
      "types_to_exclude": [
        "module",
        "function",
        "builtin_function_or_method",
        "instance",
        "_Feature"
      ],
      "window_display": false
    }
  },
  "nbformat": 4,
  "nbformat_minor": 0
}