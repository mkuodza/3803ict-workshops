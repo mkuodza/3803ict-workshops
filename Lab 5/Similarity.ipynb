{
 "cells": [
  {
   "cell_type": "markdown",
   "metadata": {},
   "source": [
    "# Similarity"
   ]
  },
  {
   "cell_type": "markdown",
   "metadata": {},
   "source": [
    "We will work on applying similarity: Jaccard and Cosine similarity. This exercise is a simple application of the lecture."
   ]
  },
  {
   "cell_type": "markdown",
   "metadata": {},
   "source": [
    "Begin by importing the needed libraries:"
   ]
  },
  {
   "cell_type": "code",
   "execution_count": 11,
   "metadata": {},
   "outputs": [],
   "source": [
    "# import needed libraries\n",
    "import nltk\n",
    "import numpy as np\n",
    "import pandas as pd"
   ]
  },
  {
   "cell_type": "markdown",
   "metadata": {},
   "source": [
    "We will work with the following examples:"
   ]
  },
  {
   "cell_type": "code",
   "execution_count": 12,
   "metadata": {},
   "outputs": [],
   "source": [
    "A = \"Outside the classroom, Stallman pursued his studies with even more diligence, rushing off to fulfill his laboratory-assistant duties at Rockefeller University during the week and dodging the Vietnam protesters on his way to Saturday school at Columbia. It was there, while the rest of the Science Honors Program students sat around discussing their college choices, that Stallman finally took a moment to participate in the preclass bull session.\"\n",
    "B = \"To facilitate the process, AI Lab hackers had built a system that displayed both the source and display modes on a split screen. Despite this innovative hack, switching from mode to mode was still a nuisance.\"\n",
    "C = \"With no dorm and no dancing, Stallman's social universe imploded. Like an astronaut experiencing the aftereffects of zero-gravity, Stallman found that his ability to interact with nonhackers, especially female nonhackers, had atrophied significantly. After 16 weeks in the AI Lab, the self confidence he'd been quietly accumulating during his 4 years at Harvard was virtually gone.\""
   ]
  },
  {
   "cell_type": "markdown",
   "metadata": {},
   "source": [
    "Begin by computing the Jaccard Similarity J of all possibilities:\n",
    "* J(A, B)\n",
    "* J(B, C)\n",
    "* J(A, C)"
   ]
  },
  {
   "cell_type": "code",
   "execution_count": 13,
   "metadata": {},
   "outputs": [
    {
     "name": "stdout",
     "output_type": "stream",
     "text": [
      "Jaccard Similarity AB:  0.10843373493975904\n",
      "Jaccard Similarity BC:  0.13157894736842105\n",
      "Jaccard Similarity AC:  0.14285714285714285\n"
     ]
    }
   ],
   "source": [
    "# TODO: compute the Jaccard similarities\n",
    "\n",
    "# Split the sentences\n",
    "A_words = nltk.word_tokenize(A.lower())\n",
    "B_words = nltk.word_tokenize(B.lower())\n",
    "C_words = nltk.word_tokenize(C.lower())\n",
    "\n",
    "# Compute the intersection and union\n",
    "def jaccard_similarity(s1, s2):\n",
    "    set1 = set(s1)\n",
    "    set2 = set(s2)\n",
    "    intersection = set1.intersection(set2)\n",
    "    union = set1.union(set2)\n",
    "    return len(intersection) / len(union)\n",
    "\n",
    "# Compute and print the Jaccard Similarity\n",
    "J_AB = jaccard_similarity(A_words, B_words)\n",
    "J_BC = jaccard_similarity(B_words, C_words)\n",
    "J_AC = jaccard_similarity(A_words, C_words)\n",
    "\n",
    "# Print the results\n",
    "print(\"Jaccard Similarity AB: \", J_AB)\n",
    "print(\"Jaccard Similarity BC: \", J_BC)\n",
    "print(\"Jaccard Similarity AC: \", J_AC)\n"
   ]
  },
  {
   "cell_type": "markdown",
   "metadata": {},
   "source": [
    "What are the closest to the other according to Jaccard Similarity?\n",
    "\n",
    "Now let's do the same using TF-IDF and Cosine Similarity. Compute the TF-IDF and cosine similarities and print them."
   ]
  },
  {
   "cell_type": "code",
   "execution_count": 14,
   "metadata": {
    "scrolled": true
   },
   "outputs": [
    {
     "name": "stdout",
     "output_type": "stream",
     "text": [
      "cos(A, B): 0.16793269576264072\n",
      "cos(B, C): 0.13618963113796592\n",
      "cos(A, C): 0.2850296032333907\n"
     ]
    }
   ],
   "source": [
    "# TODO: compute the TF-IDF of A, B and C and the cosine similarities of all possibilities\n",
    "from sklearn.feature_extraction.text import TfidfVectorizer\n",
    "from sklearn.metrics.pairwise import cosine_similarity\n",
    "\n",
    "sentences = [A, B, C]\n",
    "\n",
    "vectorizer = TfidfVectorizer()\n",
    "tfidf_matrix = vectorizer.fit_transform(sentences)\n",
    "\n",
    "cosine_sim_matrix = cosine_similarity(tfidf_matrix)\n",
    "\n",
    "\n",
    "print(\"cos(A, B):\", cosine_sim_matrix[0][1])\n",
    "print(\"cos(B, C):\", cosine_sim_matrix[1][2])\n",
    "print(\"cos(A, C):\", cosine_sim_matrix[0][2])"
   ]
  },
  {
   "cell_type": "markdown",
   "metadata": {},
   "source": [
    "Is it consistent with the Jaccard values?"
   ]
  },
  {
   "cell_type": "markdown",
   "metadata": {},
   "source": [
    "No, the results obtained using the TF-IDF and Cosine Similarity are not consistent with the Jaccard Similarity values. According to the Jaccard Similarity, the closest sentences to each other are A and C, while according to the Cosine Similarity, the closest sentences to each other are A and B.\n",
    "\n",
    "This is because the Jaccard Similarity only considers the number of shared words between two sentences, while the TF-IDF and Cosine Similarity take into account the importance of the words in the sentences. As a result, the TF-IDF and Cosine Similarity provide a more accurate measure of similarity between documents than Jaccard Similarity."
   ]
  }
 ],
 "metadata": {
  "kernelspec": {
   "display_name": "Python 3 (ipykernel)",
   "language": "python",
   "name": "python3"
  },
  "language_info": {
   "codemirror_mode": {
    "name": "ipython",
    "version": 3
   },
   "file_extension": ".py",
   "mimetype": "text/x-python",
   "name": "python",
   "nbconvert_exporter": "python",
   "pygments_lexer": "ipython3",
   "version": "3.9.13"
  },
  "toc": {
   "base_numbering": 1,
   "nav_menu": {},
   "number_sections": true,
   "sideBar": true,
   "skip_h1_title": false,
   "title_cell": "Table of Contents",
   "title_sidebar": "Contents",
   "toc_cell": false,
   "toc_position": {},
   "toc_section_display": true,
   "toc_window_display": false
  }
 },
 "nbformat": 4,
 "nbformat_minor": 2
}
