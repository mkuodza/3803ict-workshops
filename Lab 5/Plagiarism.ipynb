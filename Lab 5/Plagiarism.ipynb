{
 "cells": [
  {
   "cell_type": "markdown",
   "id": "a3a453fd",
   "metadata": {},
   "source": [
    "# Data loading"
   ]
  },
  {
   "cell_type": "code",
   "execution_count": 44,
   "id": "6ea84e95",
   "metadata": {},
   "outputs": [],
   "source": [
    "file = open('A1.txt', 'r') \n",
    "A1 = file.readlines()[0]\n",
    "\n",
    "file = open('Asource.txt', 'r') \n",
    "A0 = file.readlines()[0]\n",
    "\n",
    "file = open('B1.txt', 'r') \n",
    "B1 = file.readlines()[0]\n",
    "\n",
    "file = open('Bsource.txt', 'r') \n",
    "B0 = file.readlines()[0]\n",
    "\n",
    "file = open('C1.txt', 'r') \n",
    "C1 = file.readlines()[0]\n",
    "\n",
    "file = open('Csource.txt', 'r') \n",
    "C0 = file.readlines()[0]\n",
    "\n",
    "file = open('D1.txt', 'r') \n",
    "D1 = file.readlines()[0]\n",
    "\n",
    "file = open('D2.txt', 'r') \n",
    "D2 = file.readlines()[0]\n",
    "\n",
    "file = open('Dsource.txt', 'r') \n",
    "D0 = file.readlines()[0]"
   ]
  },
  {
   "cell_type": "code",
   "execution_count": 45,
   "id": "907d4851",
   "metadata": {},
   "outputs": [
    {
     "data": {
      "text/plain": [
       "'Descartes has been heralded as the first modern philosopher. He is famous for having made an important connection between geometry and algebra, which allowed for the solving of geometrical problems by way of algebraic equations. He is also famous for having promoted a new conception of matter, which allowed for the accounting of physical phenomena by way of mechanical explanations. However, he is most famous for having written a relatively short work, Meditationes de Prima Philosophia (Meditations On First Philosophy), published in 1641, in which he provides a philosophical groundwork for the possibility of the sciences. (Smith, 2007).\\n'"
      ]
     },
     "execution_count": 45,
     "metadata": {},
     "output_type": "execute_result"
    }
   ],
   "source": [
    "C0"
   ]
  },
  {
   "cell_type": "code",
   "execution_count": 46,
   "id": "e3d1eb43",
   "metadata": {},
   "outputs": [],
   "source": [
    "alldata = [A0, A1, B0, B1, C0, C1, D0, D1, D2]"
   ]
  },
  {
   "cell_type": "markdown",
   "id": "70aff1a7",
   "metadata": {},
   "source": [
    "# Data preprocessing"
   ]
  },
  {
   "cell_type": "code",
   "execution_count": 47,
   "id": "5c3a7355",
   "metadata": {},
   "outputs": [],
   "source": [
    "#TODO: Compute tf-idf for all documents\n",
    "from sklearn.feature_extraction.text import TfidfVectorizer\n",
    "\n",
    "\n",
    "tfvect = TfidfVectorizer()\n",
    "\n",
    "tfvect.fit(alldata)\n",
    "\n",
    "tfidf = tfvect.transform(alldata)\n",
    "\n",
    "TFIDFA = tfvect.transform([A0, A1]).toarray()\n",
    "TFIDFB = tfvect.transform([B0, B1]).toarray()\n",
    "TFIDFC = tfvect.transform([C0, C1]).toarray()\n",
    "TFIDFD = tfvect.transform([D0, D1, D2]).toarray()"
   ]
  },
  {
   "cell_type": "markdown",
   "id": "38ea32b0",
   "metadata": {},
   "source": [
    "# Similarity computation"
   ]
  },
  {
   "cell_type": "code",
   "execution_count": 48,
   "id": "c819b6f4",
   "metadata": {},
   "outputs": [],
   "source": [
    "#TODO: pair-wise similarity\n",
    "from sklearn.metrics.pairwise import cosine_similarity\n",
    "\n",
    "similarityAA = cosine_similarity(TFIDFA, TFIDFA)\n",
    "similarityBB = cosine_similarity(TFIDFB, TFIDFB)\n",
    "similarityCC = cosine_similarity(TFIDFC, TFIDFC)\n",
    "similarityDD = cosine_similarity(TFIDFD, TFIDFD)\n",
    "\n",
    "similarityAll = cosine_similarity(tfidf, tfidf)"
   ]
  },
  {
   "cell_type": "code",
   "execution_count": 49,
   "id": "c4055c3f",
   "metadata": {},
   "outputs": [
    {
     "data": {
      "text/plain": [
       "array([[1.        , 0.81898863],\n",
       "       [0.81898863, 1.        ]])"
      ]
     },
     "execution_count": 49,
     "metadata": {},
     "output_type": "execute_result"
    }
   ],
   "source": [
    "similarityAA"
   ]
  },
  {
   "cell_type": "code",
   "execution_count": 50,
   "id": "178f90a4",
   "metadata": {},
   "outputs": [
    {
     "data": {
      "text/plain": [
       "array([[1.        , 0.63747903],\n",
       "       [0.63747903, 1.        ]])"
      ]
     },
     "execution_count": 50,
     "metadata": {},
     "output_type": "execute_result"
    }
   ],
   "source": [
    "similarityBB"
   ]
  },
  {
   "cell_type": "code",
   "execution_count": 51,
   "id": "0d207341",
   "metadata": {},
   "outputs": [
    {
     "data": {
      "text/plain": [
       "array([[1.        , 0.85723864],\n",
       "       [0.85723864, 1.        ]])"
      ]
     },
     "execution_count": 51,
     "metadata": {},
     "output_type": "execute_result"
    }
   ],
   "source": [
    "similarityCC"
   ]
  },
  {
   "cell_type": "code",
   "execution_count": 52,
   "id": "90228854",
   "metadata": {},
   "outputs": [
    {
     "data": {
      "text/plain": [
       "array([[1.        , 0.91153882, 0.45775827],\n",
       "       [0.91153882, 1.        , 0.46409641],\n",
       "       [0.45775827, 0.46409641, 1.        ]])"
      ]
     },
     "execution_count": 52,
     "metadata": {},
     "output_type": "execute_result"
    }
   ],
   "source": [
    "similarityDD"
   ]
  },
  {
   "cell_type": "code",
   "execution_count": 53,
   "id": "f8027191",
   "metadata": {},
   "outputs": [
    {
     "data": {
      "text/plain": [
       "array([[1.        , 0.81898863, 0.10748497, 0.12736224, 0.24491604,\n",
       "        0.29501242, 0.2530779 , 0.21594796, 0.18585492],\n",
       "       [0.81898863, 1.        , 0.10940658, 0.12644471, 0.21239125,\n",
       "        0.25583485, 0.214717  , 0.18046478, 0.16807197],\n",
       "       [0.10748497, 0.10940658, 1.        , 0.63747903, 0.08804551,\n",
       "        0.09372089, 0.08509508, 0.07994656, 0.10627147],\n",
       "       [0.12736224, 0.12644471, 0.63747903, 1.        , 0.08730757,\n",
       "        0.08893992, 0.12527568, 0.12146166, 0.12910021],\n",
       "       [0.24491604, 0.21239125, 0.08804551, 0.08730757, 1.        ,\n",
       "        0.85723864, 0.20151171, 0.16298738, 0.14447728],\n",
       "       [0.29501242, 0.25583485, 0.09372089, 0.08893992, 0.85723864,\n",
       "        1.        , 0.22326634, 0.18176114, 0.1558733 ],\n",
       "       [0.2530779 , 0.214717  , 0.08509508, 0.12527568, 0.20151171,\n",
       "        0.22326634, 1.        , 0.91153882, 0.45775827],\n",
       "       [0.21594796, 0.18046478, 0.07994656, 0.12146166, 0.16298738,\n",
       "        0.18176114, 0.91153882, 1.        , 0.46409641],\n",
       "       [0.18585492, 0.16807197, 0.10627147, 0.12910021, 0.14447728,\n",
       "        0.1558733 , 0.45775827, 0.46409641, 1.        ]])"
      ]
     },
     "execution_count": 53,
     "metadata": {},
     "output_type": "execute_result"
    }
   ],
   "source": [
    "similarityAll"
   ]
  },
  {
   "cell_type": "code",
   "execution_count": 54,
   "id": "9f3f4b1f",
   "metadata": {},
   "outputs": [
    {
     "data": {
      "image/png": "[encoded data removed]",
      "text/plain": [
       "<Figure size 640x480 with 1 Axes>"
      ]
     },
     "metadata": {},
     "output_type": "display_data"
    }
   ],
   "source": [
    "import matplotlib.pyplot as plt\n",
    "\n",
    "#TODO: show pair-wise similarity\n",
    "import matplotlib.pyplot as plt\n",
    "\n",
    "plt.imshow(similarityAll)\n",
    "plt.show()"
   ]
  },
  {
   "cell_type": "markdown",
   "id": "eba232d7",
   "metadata": {},
   "source": [
    "# Threshold definition"
   ]
  },
  {
   "cell_type": "code",
   "execution_count": 55,
   "id": "97556bb6",
   "metadata": {},
   "outputs": [
    {
     "data": {
      "image/png": "[encoded data removed]",
      "text/plain": [
       "<Figure size 640x480 with 1 Axes>"
      ]
     },
     "metadata": {},
     "output_type": "display_data"
    }
   ],
   "source": [
    "pred_plagiarism = similarityAll>0.2\n",
    "\n",
    "#TODO: show pair-wise similarity\n",
    "threshold = 0.2\n",
    "\n",
    "pred_plagiarism = similarityAll > threshold\n",
    "plt.imshow(pred_plagiarism)\n",
    "plt.show()"
   ]
  },
  {
   "cell_type": "markdown",
   "id": "0472573f",
   "metadata": {},
   "source": [
    "# Perf estimation"
   ]
  },
  {
   "cell_type": "code",
   "execution_count": 56,
   "id": "3c96a0ae",
   "metadata": {},
   "outputs": [],
   "source": [
    "import numpy as np\n",
    "real_plagiarism = np.zeros((9,9))\n",
    "\n",
    "# TODO: build the true labels matrix (to do automatically would be better...)       \n",
    "# Define the true labels for the A documents\n",
    "real_plagiarism[0,1] = 1\n",
    "\n",
    "# Define the true labels for the B documents\n",
    "real_plagiarism[2,3] = 1\n",
    "\n",
    "# Define the true labels for the C documents\n",
    "real_plagiarism[4,5] = 1\n",
    "\n",
    "# Define the true labels for the D documents\n",
    "real_plagiarism[6,7] = 1\n",
    "real_plagiarism[6,8] = 1\n",
    "real_plagiarism[7,8] = 1"
   ]
  },
  {
   "cell_type": "code",
   "execution_count": 57,
   "id": "5128c9d4",
   "metadata": {},
   "outputs": [
    {
     "data": {
      "image/png": "[encoded data removed]",
      "text/plain": [
       "<Figure size 640x480 with 1 Axes>"
      ]
     },
     "metadata": {},
     "output_type": "display_data"
    }
   ],
   "source": [
    "import matplotlib.pyplot as plt\n",
    "plt.imshow(real_plagiarism)\n",
    "plt.show()"
   ]
  },
  {
   "cell_type": "code",
   "execution_count": 58,
   "id": "ad9ff636",
   "metadata": {},
   "outputs": [
    {
     "name": "stdout",
     "output_type": "stream",
     "text": [
      "The accuracy is: 0.59\n"
     ]
    }
   ],
   "source": [
    "from sklearn.metrics import accuracy_score\n",
    "\n",
    "#TODO: compute the accuracy score based on true matrices\n",
    "accuracy = accuracy_score(real_plagiarism.flatten(), pred_plagiarism.flatten())\n",
    "\n",
    "print(\"The accuracy is: %.2f\" % accuracy)"
   ]
  }
 ],
 "metadata": {
  "kernelspec": {
   "display_name": "Python 3 (ipykernel)",
   "language": "python",
   "name": "python3"
  },
  "language_info": {
   "codemirror_mode": {
    "name": "ipython",
    "version": 3
   },
   "file_extension": ".py",
   "mimetype": "text/x-python",
   "name": "python",
   "nbconvert_exporter": "python",
   "pygments_lexer": "ipython3",
   "version": "3.9.13"
  }
 },
 "nbformat": 4,
 "nbformat_minor": 5
}
