{
 "cells": [
  {
   "cell_type": "markdown",
   "metadata": {},
   "source": [
    "# 04-Spam-Classifier"
   ]
  },
  {
   "cell_type": "markdown",
   "metadata": {},
   "source": [
    "It's time to make our first real Machine Learning application of NLP: a spam classifier!"
   ]
  },
  {
   "cell_type": "markdown",
   "metadata": {},
   "source": [
    "A spam classifier is a Machine Learning model that classifier texts (email or SMS) into two categories: Spam (1) or legitimate (0).\n",
    "\n",
    "To do that, we will reuse our knowledge: we will apply preprocessing and BOW (Bag Of Words) on a dataset of texts.\n",
    "Then we will use a classifier to predict to which class belong a new email/SMS, based on the BOW."
   ]
  },
  {
   "cell_type": "markdown",
   "metadata": {},
   "source": [
    "First things first: import the needed libraries."
   ]
  },
  {
   "cell_type": "code",
   "execution_count": 52,
   "metadata": {},
   "outputs": [],
   "source": [
    "# Import NLTK and all the needed libraries\n",
    "import nltk\n",
    "import numpy as np\n",
    "import pandas as pd\n",
    "from sklearn.feature_extraction.text import CountVectorizer"
   ]
  },
  {
   "cell_type": "markdown",
   "metadata": {},
   "source": [
    "Load now the dataset in *spam.csv* using pandas. Use the 'latin-1' encoding as loading option."
   ]
  },
  {
   "cell_type": "code",
   "execution_count": 53,
   "metadata": {},
   "outputs": [
    {
     "data": {
      "text/html": [
       "<div>\n",
       "<style scoped>\n",
       "    .dataframe tbody tr th:only-of-type {\n",
       "        vertical-align: middle;\n",
       "    }\n",
       "\n",
       "    .dataframe tbody tr th {\n",
       "        vertical-align: top;\n",
       "    }\n",
       "\n",
       "    .dataframe thead th {\n",
       "        text-align: right;\n",
       "    }\n",
       "</style>\n",
       "<table border=\"1\" class=\"dataframe\">\n",
       "  <thead>\n",
       "    <tr style=\"text-align: right;\">\n",
       "      <th></th>\n",
       "      <th>Class</th>\n",
       "      <th>Message</th>\n",
       "    </tr>\n",
       "  </thead>\n",
       "  <tbody>\n",
       "    <tr>\n",
       "      <th>0</th>\n",
       "      <td>ham</td>\n",
       "      <td>Go until jurong point, crazy.. Available only ...</td>\n",
       "    </tr>\n",
       "    <tr>\n",
       "      <th>1</th>\n",
       "      <td>ham</td>\n",
       "      <td>Ok lar... Joking wif u oni...</td>\n",
       "    </tr>\n",
       "    <tr>\n",
       "      <th>2</th>\n",
       "      <td>spam</td>\n",
       "      <td>Free entry in 2 a wkly comp to win FA Cup fina...</td>\n",
       "    </tr>\n",
       "    <tr>\n",
       "      <th>3</th>\n",
       "      <td>ham</td>\n",
       "      <td>U dun say so early hor... U c already then say...</td>\n",
       "    </tr>\n",
       "    <tr>\n",
       "      <th>4</th>\n",
       "      <td>ham</td>\n",
       "      <td>Nah I don't think he goes to usf, he lives aro...</td>\n",
       "    </tr>\n",
       "  </tbody>\n",
       "</table>\n",
       "</div>"
      ],
      "text/plain": [
       "  Class                                            Message\n",
       "0   ham  Go until jurong point, crazy.. Available only ...\n",
       "1   ham                      Ok lar... Joking wif u oni...\n",
       "2  spam  Free entry in 2 a wkly comp to win FA Cup fina...\n",
       "3   ham  U dun say so early hor... U c already then say...\n",
       "4   ham  Nah I don't think he goes to usf, he lives aro..."
      ]
     },
     "execution_count": 53,
     "metadata": {},
     "output_type": "execute_result"
    }
   ],
   "source": [
    "# TODO: Load the dataset \n",
    "spam_df = pd.read_csv('spam.csv', encoding='latin-1')\n",
    "spam_df.head(5)"
   ]
  },
  {
   "cell_type": "markdown",
   "metadata": {},
   "source": [
    "As usual, I suggest you to explore a bit this dataset."
   ]
  },
  {
   "cell_type": "code",
   "execution_count": 54,
   "metadata": {
    "scrolled": false
   },
   "outputs": [
    {
     "name": "stdout",
     "output_type": "stream",
     "text": [
      "Dataset dimensions: (5572, 2)\n",
      "<class 'pandas.core.frame.DataFrame'>\n",
      "RangeIndex: 5572 entries, 0 to 5571\n",
      "Data columns (total 2 columns):\n",
      " #   Column   Non-Null Count  Dtype \n",
      "---  ------   --------------  ----- \n",
      " 0   Class    5572 non-null   object\n",
      " 1   Message  5572 non-null   object\n",
      "dtypes: object(2)\n",
      "memory usage: 87.2+ KB\n",
      "None\n",
      "  Class                                            Message\n",
      "0   ham  Go until jurong point, crazy.. Available only ...\n",
      "1   ham                      Ok lar... Joking wif u oni...\n",
      "2  spam  Free entry in 2 a wkly comp to win FA Cup fina...\n",
      "3   ham  U dun say so early hor... U c already then say...\n",
      "4   ham  Nah I don't think he goes to usf, he lives aro...\n"
     ]
    }
   ],
   "source": [
    "# TODO: explore the dataset\n",
    "\n",
    "print(\"Dataset dimensions:\", spam_df.shape)\n",
    "\n",
    "print(spam_df.info())\n",
    "\n",
    "print(spam_df.head())"
   ]
  },
  {
   "cell_type": "markdown",
   "metadata": {},
   "source": [
    "So as you see we have a column containing the labels, and a column containing the text to classify."
   ]
  },
  {
   "cell_type": "markdown",
   "metadata": {},
   "source": [
    "We will begin by doing the usual preprocessing: tokenization, punctuation removal and lemmatization."
   ]
  },
  {
   "cell_type": "code",
   "execution_count": 55,
   "metadata": {},
   "outputs": [
    {
     "name": "stdout",
     "output_type": "stream",
     "text": [
      "0       [go, jurong, point, crazy, .., available, bugi...\n",
      "1                [ok, lar, ..., joking, wif, u, oni, ...]\n",
      "2       [free, entry, 2, wkly, comp, win, fa, cup, fin...\n",
      "3       [u, dun, say, early, hor, ..., u, c, already, ...\n",
      "4        [nah, n't, think, go, usf, life, around, though]\n",
      "                              ...                        \n",
      "5567    [2nd, time, tried, 2, contact, u., u, ï¿½750, ...\n",
      "5568                [ï¿½_, b, going, esplanade, fr, home]\n",
      "5569                        [pity, mood, ..., suggestion]\n",
      "5570    [guy, bitching, acted, like, 'd, interested, b...\n",
      "5571                                   [rofl, true, name]\n",
      "Name: tokens, Length: 5572, dtype: object\n"
     ]
    }
   ],
   "source": [
    "# TODO: Perform preprocessing over all the text\n",
    "\n",
    "import nltk\n",
    "from nltk.corpus import stopwords\n",
    "from nltk.tokenize import word_tokenize\n",
    "from nltk.stem import WordNetLemmatizer\n",
    "import string\n",
    "\n",
    "\n",
    "def preprocess(text):\n",
    "    # Tokenize the text\n",
    "    tokens = word_tokenize(text.lower())\n",
    "\n",
    "    # Remove stopwords and punctuation\n",
    "    stopwords_en = set(stopwords.words('english'))\n",
    "    tokens = [t for t in tokens if t not in stopwords_en and t not in string.punctuation]\n",
    "\n",
    "    # Lemmatize the tokens\n",
    "    lemmatizer = WordNetLemmatizer()\n",
    "    tokens = [lemmatizer.lemmatize(t) for t in tokens]\n",
    "\n",
    "    return tokens\n",
    "\n",
    "spam_df['tokens'] = spam_df['Message'].apply(preprocess)\n",
    "\n",
    "print(spam_df['tokens'])"
   ]
  },
  {
   "cell_type": "markdown",
   "metadata": {},
   "source": [
    "Ok now we have our preprocessed data. Next step is to do a BOW."
   ]
  },
  {
   "cell_type": "code",
   "execution_count": 56,
   "metadata": {},
   "outputs": [
    {
     "name": "stderr",
     "output_type": "stream",
     "text": [
      "C:\\Users\\user\\anaconda3\\lib\\site-packages\\sklearn\\feature_extraction\\text.py:516: UserWarning: The parameter 'token_pattern' will not be used since 'tokenizer' is not None'\n",
      "  warnings.warn(\n"
     ]
    },
    {
     "name": "stdout",
     "output_type": "stream",
     "text": [
      "BOW matrix shape: (5572, 8916)\n"
     ]
    }
   ],
   "source": [
    "# TODO: compute the BOW\n",
    "from sklearn.feature_extraction.text import CountVectorizer\n",
    "\n",
    "# Create a CountVectorizer object\n",
    "vectorizer = CountVectorizer(tokenizer=lambda doc: doc, lowercase=False)\n",
    "\n",
    "# Fit the vectorizer on the preprocessed text\n",
    "vectorizer.fit(spam_df['tokens'])\n",
    "\n",
    "# Transform the preprocessed text into a BOW matrix\n",
    "bow = vectorizer.transform(spam_df['tokens'])\n",
    "\n",
    "# Print the shape of the BOW matrix\n",
    "print(\"BOW matrix shape:\", bow.shape)"
   ]
  },
  {
   "cell_type": "markdown",
   "metadata": {},
   "source": [
    "Then make a new dataframe as usual to have a visual idea of the words used and their frequencies."
   ]
  },
  {
   "cell_type": "code",
   "execution_count": 57,
   "metadata": {},
   "outputs": [
    {
     "name": "stderr",
     "output_type": "stream",
     "text": [
      "C:\\Users\\user\\anaconda3\\lib\\site-packages\\sklearn\\utils\\deprecation.py:87: FutureWarning: Function get_feature_names is deprecated; get_feature_names is deprecated in 1.0 and will be removed in 1.2. Please use get_feature_names_out instead.\n",
      "  warnings.warn(msg, category=FutureWarning)\n"
     ]
    },
    {
     "data": {
      "text/html": [
       "<div>\n",
       "<style scoped>\n",
       "    .dataframe tbody tr th:only-of-type {\n",
       "        vertical-align: middle;\n",
       "    }\n",
       "\n",
       "    .dataframe tbody tr th {\n",
       "        vertical-align: top;\n",
       "    }\n",
       "\n",
       "    .dataframe thead th {\n",
       "        text-align: right;\n",
       "    }\n",
       "</style>\n",
       "<table border=\"1\" class=\"dataframe\">\n",
       "  <thead>\n",
       "    <tr style=\"text-align: right;\">\n",
       "      <th></th>\n",
       "      <th>''</th>\n",
       "      <th>'an</th>\n",
       "      <th>'anything</th>\n",
       "      <th>'comfort</th>\n",
       "      <th>'d</th>\n",
       "      <th>'doctors</th>\n",
       "      <th>'heart</th>\n",
       "      <th>'help</th>\n",
       "      <th>'hex</th>\n",
       "      <th>'hw</th>\n",
       "      <th>...</th>\n",
       "      <th>ï¿½ï¿½_thanks</th>\n",
       "      <th>ï¿½ï¿½harry</th>\n",
       "      <th>ï¿½ï¿½it</th>\n",
       "      <th>ï¿½ï¿½morrow</th>\n",
       "      <th>ï¿½ï¿½rents</th>\n",
       "      <th>ï¿½ï¿½ï¿½</th>\n",
       "      <th>ï¿½ï¿½ï¿½_</th>\n",
       "      <th>ï¿½ï¿½ï¿½harry</th>\n",
       "      <th>ï¿½û¬ud</th>\n",
       "      <th>Class</th>\n",
       "    </tr>\n",
       "  </thead>\n",
       "  <tbody>\n",
       "    <tr>\n",
       "      <th>0</th>\n",
       "      <td>0</td>\n",
       "      <td>0</td>\n",
       "      <td>0</td>\n",
       "      <td>0</td>\n",
       "      <td>0</td>\n",
       "      <td>0</td>\n",
       "      <td>0</td>\n",
       "      <td>0</td>\n",
       "      <td>0</td>\n",
       "      <td>0</td>\n",
       "      <td>...</td>\n",
       "      <td>0</td>\n",
       "      <td>0</td>\n",
       "      <td>0</td>\n",
       "      <td>0</td>\n",
       "      <td>0</td>\n",
       "      <td>0</td>\n",
       "      <td>0</td>\n",
       "      <td>0</td>\n",
       "      <td>0</td>\n",
       "      <td>ham</td>\n",
       "    </tr>\n",
       "    <tr>\n",
       "      <th>1</th>\n",
       "      <td>0</td>\n",
       "      <td>0</td>\n",
       "      <td>0</td>\n",
       "      <td>0</td>\n",
       "      <td>0</td>\n",
       "      <td>0</td>\n",
       "      <td>0</td>\n",
       "      <td>0</td>\n",
       "      <td>0</td>\n",
       "      <td>0</td>\n",
       "      <td>...</td>\n",
       "      <td>0</td>\n",
       "      <td>0</td>\n",
       "      <td>0</td>\n",
       "      <td>0</td>\n",
       "      <td>0</td>\n",
       "      <td>0</td>\n",
       "      <td>0</td>\n",
       "      <td>0</td>\n",
       "      <td>0</td>\n",
       "      <td>ham</td>\n",
       "    </tr>\n",
       "    <tr>\n",
       "      <th>2</th>\n",
       "      <td>0</td>\n",
       "      <td>0</td>\n",
       "      <td>0</td>\n",
       "      <td>0</td>\n",
       "      <td>0</td>\n",
       "      <td>0</td>\n",
       "      <td>0</td>\n",
       "      <td>0</td>\n",
       "      <td>0</td>\n",
       "      <td>0</td>\n",
       "      <td>...</td>\n",
       "      <td>0</td>\n",
       "      <td>0</td>\n",
       "      <td>0</td>\n",
       "      <td>0</td>\n",
       "      <td>0</td>\n",
       "      <td>0</td>\n",
       "      <td>0</td>\n",
       "      <td>0</td>\n",
       "      <td>0</td>\n",
       "      <td>spam</td>\n",
       "    </tr>\n",
       "    <tr>\n",
       "      <th>3</th>\n",
       "      <td>0</td>\n",
       "      <td>0</td>\n",
       "      <td>0</td>\n",
       "      <td>0</td>\n",
       "      <td>0</td>\n",
       "      <td>0</td>\n",
       "      <td>0</td>\n",
       "      <td>0</td>\n",
       "      <td>0</td>\n",
       "      <td>0</td>\n",
       "      <td>...</td>\n",
       "      <td>0</td>\n",
       "      <td>0</td>\n",
       "      <td>0</td>\n",
       "      <td>0</td>\n",
       "      <td>0</td>\n",
       "      <td>0</td>\n",
       "      <td>0</td>\n",
       "      <td>0</td>\n",
       "      <td>0</td>\n",
       "      <td>ham</td>\n",
       "    </tr>\n",
       "    <tr>\n",
       "      <th>4</th>\n",
       "      <td>0</td>\n",
       "      <td>0</td>\n",
       "      <td>0</td>\n",
       "      <td>0</td>\n",
       "      <td>0</td>\n",
       "      <td>0</td>\n",
       "      <td>0</td>\n",
       "      <td>0</td>\n",
       "      <td>0</td>\n",
       "      <td>0</td>\n",
       "      <td>...</td>\n",
       "      <td>0</td>\n",
       "      <td>0</td>\n",
       "      <td>0</td>\n",
       "      <td>0</td>\n",
       "      <td>0</td>\n",
       "      <td>0</td>\n",
       "      <td>0</td>\n",
       "      <td>0</td>\n",
       "      <td>0</td>\n",
       "      <td>ham</td>\n",
       "    </tr>\n",
       "  </tbody>\n",
       "</table>\n",
       "<p>5 rows × 8917 columns</p>\n",
       "</div>"
      ],
      "text/plain": [
       "   ''  'an  'anything  'comfort  'd  'doctors  'heart  'help  'hex  'hw  ...  \\\n",
       "0   0    0          0         0   0         0       0      0     0    0  ...   \n",
       "1   0    0          0         0   0         0       0      0     0    0  ...   \n",
       "2   0    0          0         0   0         0       0      0     0    0  ...   \n",
       "3   0    0          0         0   0         0       0      0     0    0  ...   \n",
       "4   0    0          0         0   0         0       0      0     0    0  ...   \n",
       "\n",
       "   ï¿½ï¿½_thanks  ï¿½ï¿½harry  ï¿½ï¿½it  ï¿½ï¿½morrow  ï¿½ï¿½rents  ï¿½ï¿½ï¿½  \\\n",
       "0              0            0         0             0            0          0   \n",
       "1              0            0         0             0            0          0   \n",
       "2              0            0         0             0            0          0   \n",
       "3              0            0         0             0            0          0   \n",
       "4              0            0         0             0            0          0   \n",
       "\n",
       "   ï¿½ï¿½ï¿½_  ï¿½ï¿½ï¿½harry  ï¿½û¬ud  Class  \n",
       "0           0               0        0    ham  \n",
       "1           0               0        0    ham  \n",
       "2           0               0        0   spam  \n",
       "3           0               0        0    ham  \n",
       "4           0               0        0    ham  \n",
       "\n",
       "[5 rows x 8917 columns]"
      ]
     },
     "execution_count": 57,
     "metadata": {},
     "output_type": "execute_result"
    }
   ],
   "source": [
    "# TODO: Make a new dataframe with the BOW\n",
    "bow_df = pd.DataFrame(bow.toarray(), columns=vectorizer.get_feature_names())\n",
    "\n",
    "bow_df['Class'] = spam_df['Class']\n",
    "\n",
    "bow_df.head()"
   ]
  },
  {
   "cell_type": "markdown",
   "metadata": {},
   "source": [
    "Let's check what is the most used word in the spam category and the non spam category.\n",
    "\n",
    "There are two steps: first add the class to the BOW dataframe. Second, filter on a class, sum all the values and print the most frequent one."
   ]
  },
  {
   "cell_type": "code",
   "execution_count": 58,
   "metadata": {},
   "outputs": [
    {
     "name": "stdout",
     "output_type": "stream",
     "text": [
      "Most frequent spam word: call\n",
      "Most frequent ham word: ...\n"
     ]
    }
   ],
   "source": [
    "# TODO: print the most used word in the spam and non spam category\n",
    "# Adding the Class column to the BOW dataframe\n",
    "bow_df['Class'] = spam_df['Class']\n",
    "\n",
    "spam_token_counts = bow_df[bow_df['Class'] == 'spam'].iloc[:, :-1].sum()\n",
    "ham_token_counts = bow_df[bow_df['Class'] == 'ham'].iloc[:, :-1].sum()\n",
    "\n",
    "most_frequent_spam_token = spam_token_counts.idxmax()\n",
    "most_frequent_ham_token = ham_token_counts.idxmax()\n",
    "\n",
    "print(f\"Most frequent spam word: {most_frequent_spam_token}\")\n",
    "print(f\"Most frequent ham word: {most_frequent_ham_token}\")"
   ]
  },
  {
   "cell_type": "markdown",
   "metadata": {},
   "source": [
    "You should find that the most frequent spam word is 'free', not so surprising, right?"
   ]
  },
  {
   "cell_type": "markdown",
   "metadata": {},
   "source": [
    "Now we can make a classifier based on our BOW. We will use a simple logistic regression here for the example.\n",
    "\n",
    "You're an expert, you know what to do, right? Split the data, train your model, predict and see the performance."
   ]
  },
  {
   "cell_type": "code",
   "execution_count": 59,
   "metadata": {},
   "outputs": [
    {
     "name": "stdout",
     "output_type": "stream",
     "text": [
      "0.9766816143497757\n"
     ]
    }
   ],
   "source": [
    "# TODO: Perform a classification to predict whether a message is a spam or not\n",
    "from sklearn.model_selection import train_test_split\n",
    "from sklearn.linear_model import LogisticRegression\n",
    "\n",
    "# Split the data into training and testing sets\n",
    "X_train, X_test, y_train, y_test = train_test_split(bow, spam_df['Class'], test_size=0.2, random_state=42)\n",
    "\n",
    "# Train a logistic regression classifier on the training data\n",
    "clf = LogisticRegression()\n",
    "clf.fit(X_train, y_train)\n",
    "\n",
    "# Predict the class labels on the testing data\n",
    "y_pred = clf.predict(X_test)\n",
    "\n",
    "# Evaluate the accuracy of the classifier\n",
    "accuracy = accuracy_score(y_test, y_pred)\n",
    "print(accuracy)"
   ]
  },
  {
   "cell_type": "markdown",
   "metadata": {},
   "source": [
    "What precision do you get? Check by hand on some samples where it did predict well to check what could go wrong...\n",
    "\n",
    "Try to use other models and try to improve your results."
   ]
  },
  {
   "cell_type": "code",
   "execution_count": 60,
   "metadata": {},
   "outputs": [
    {
     "name": "stdout",
     "output_type": "stream",
     "text": [
      "0.9920634920634921\n",
      "Correctly predicted sample 1:\n",
      "[array(['also', 'application', 'applying', 'contact', 'cost', 'expensive',\n",
      "       'joke', 'le', 'ogunrinde', 'one', 'research', 'school', 'score',\n",
      "       'secondary', 'sent', 'sophas', 'think', 'thinking'], dtype='<U51')]\n",
      "Correctly predicted sample 2:\n",
      "[array([\"'ll\", 'getting', 'know', 'let', 'made', 'morning', 'ok',\n",
      "       'promise', 'soon', 'text'], dtype='<U51')]\n",
      "Correctly predicted sample 3:\n",
      "[array(['2', '87066', 'awarded', 'cd', 'congratulation', 'draw', 'either',\n",
      "       'entry', 'free', 'gift', 'music', 'tncs', 'txt', 'ur', 'voucher',\n",
      "       'weekly', 'www.ldew.com1win150ppmx3age16', 'ï¿½100', 'ï¿½500'],\n",
      "      dtype='<U51')]\n",
      "Correctly predicted sample 4:\n",
      "[array([\"'ll\", 'carlos', 'hang', 'know', 'let', 'text'], dtype='<U51')]\n",
      "Correctly predicted sample 5:\n",
      "[array([\"did't\", 'k', 'k.i', 'see'], dtype='<U51')]\n"
     ]
    }
   ],
   "source": [
    "from sklearn.metrics import precision_score\n",
    "\n",
    "precision = precision_score(y_test, y_pred, pos_label='spam')\n",
    "print(precision)\n",
    "\n",
    "correct_samples = X_test[y_test == y_pred][:5]\n",
    "for i, sample in enumerate(correct_samples):\n",
    "    print(f\"Correctly predicted sample {i+1}:\")\n",
    "    print(vectorizer.inverse_transform(sample))"
   ]
  },
  {
   "cell_type": "code",
   "execution_count": 61,
   "metadata": {},
   "outputs": [
    {
     "name": "stdout",
     "output_type": "stream",
     "text": [
      "0.9730941704035875\n"
     ]
    }
   ],
   "source": [
    "\n",
    "import xgboost as xgb\n",
    "\n",
    "y_train = y_train.map({'ham': 0, 'spam': 1})\n",
    "y_test = y_test.map({'ham': 0, 'spam': 1})\n",
    "\n",
    "\n",
    "clf = xgb.XGBClassifier()\n",
    "clf.fit(X_train, y_train)\n",
    "\n",
    "y_pred = clf.predict(X_test)\n",
    "\n",
    "accuracy = accuracy_score(y_test, y_pred)\n",
    "print(accuracy)\n"
   ]
  },
  {
   "cell_type": "code",
   "execution_count": 62,
   "metadata": {},
   "outputs": [
    {
     "name": "stdout",
     "output_type": "stream",
     "text": [
      "Epoch 1/5\n",
      "140/140 [==============================] - 15s 46ms/step - loss: 0.2907 - accuracy: 0.9011\n",
      "Epoch 2/5\n",
      "140/140 [==============================] - 6s 44ms/step - loss: 0.0618 - accuracy: 0.9854\n",
      "Epoch 3/5\n",
      "140/140 [==============================] - 6s 45ms/step - loss: 0.0272 - accuracy: 0.9930\n",
      "Epoch 4/5\n",
      "140/140 [==============================] - 6s 45ms/step - loss: 0.0130 - accuracy: 0.9971\n",
      "Epoch 5/5\n",
      "140/140 [==============================] - 7s 49ms/step - loss: 0.0076 - accuracy: 0.9978\n",
      "35/35 [==============================] - 2s 15ms/step\n",
      "0.979372197309417\n"
     ]
    }
   ],
   "source": [
    "import tensorflow as tf\n",
    "from tensorflow.keras.preprocessing.text import Tokenizer\n",
    "from tensorflow.keras.preprocessing.sequence import pad_sequences\n",
    "\n",
    "# Split the data into training and testing sets\n",
    "X_train, X_test, y_train, y_test = train_test_split(spam_df['Message'], spam_df['Class'], test_size=0.2, random_state=42)\n",
    "\n",
    "# Preprocess the text data\n",
    "vocab_size = 10000\n",
    "max_length = 100\n",
    "embedding_dim = 16\n",
    "tokenizer = Tokenizer(num_words=vocab_size, oov_token=\"<OOV>\")\n",
    "tokenizer.fit_on_texts(X_train)\n",
    "X_train = tokenizer.texts_to_sequences(X_train)\n",
    "X_train = pad_sequences(X_train, maxlen=max_length, truncating='post', padding='post')\n",
    "X_test = tokenizer.texts_to_sequences(X_test)\n",
    "X_test = pad_sequences(X_test, maxlen=max_length, truncating='post', padding='post')\n",
    "\n",
    "# Map the string labels to binary numeric labels\n",
    "y_train = y_train.map({'ham': 0, 'spam': 1})\n",
    "y_test = y_test.map({'ham': 0, 'spam': 1})\n",
    "\n",
    "# Train an RNN on the preprocessed data\n",
    "model = tf.keras.Sequential([\n",
    "    tf.keras.layers.Embedding(vocab_size, embedding_dim, input_length=max_length),\n",
    "    tf.keras.layers.Bidirectional(tf.keras.layers.LSTM(32)),\n",
    "    tf.keras.layers.Dense(1, activation='sigmoid')\n",
    "])\n",
    "model.compile(loss='binary_crossentropy', optimizer='adam', metrics=['accuracy'])\n",
    "model.fit(X_train, y_train, epochs=5)\n",
    "\n",
    "# Evaluate the accuracy of the RNN on the testing data\n",
    "y_pred = model.predict(X_test)\n",
    "y_pred = [1 if pred >= 0.5 else 0 for pred in y_pred]\n",
    "accuracy = accuracy_score(y_test, y_pred)\n",
    "print(accuracy)"
   ]
  },
  {
   "cell_type": "code",
   "execution_count": null,
   "metadata": {},
   "outputs": [],
   "source": []
  }
 ],
 "metadata": {
  "kernelspec": {
   "display_name": "Python 3 (ipykernel)",
   "language": "python",
   "name": "python3"
  },
  "language_info": {
   "codemirror_mode": {
    "name": "ipython",
    "version": 3
   },
   "file_extension": ".py",
   "mimetype": "text/x-python",
   "name": "python",
   "nbconvert_exporter": "python",
   "pygments_lexer": "ipython3",
   "version": "3.9.13"
  },
  "toc": {
   "base_numbering": 1,
   "nav_menu": {},
   "number_sections": true,
   "sideBar": true,
   "skip_h1_title": false,
   "title_cell": "Table of Contents",
   "title_sidebar": "Contents",
   "toc_cell": false,
   "toc_position": {},
   "toc_section_display": true,
   "toc_window_display": false
  }
 },
 "nbformat": 4,
 "nbformat_minor": 2
}
