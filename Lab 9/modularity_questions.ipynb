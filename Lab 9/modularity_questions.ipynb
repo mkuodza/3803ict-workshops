{
 "cells": [
  {
   "cell_type": "markdown",
   "metadata": {},
   "source": [
    "# Lab 9 - Graph Data Analytics\n",
    "\n",
    "Complete the code with TODO tag.\n",
    "\n",
    "## 4. Graph Modularity and Louvain Algorithm (OPTIONAL)\n",
    "### 4.1. Compute Modularity\n",
    "\n",
    "In this exercise, we compute the modularity measure of a graph. First we create a small dataset and manually assign the community label to each node."
   ]
  },
  {
   "cell_type": "code",
   "execution_count": 1,
   "metadata": {},
   "outputs": [
    {
     "data": {
      "image/png": "[encoded data removed]",
      "text/plain": [
       "<Figure size 640x480 with 1 Axes>"
      ]
     },
     "metadata": {},
     "output_type": "display_data"
    }
   ],
   "source": [
    "from __future__ import print_function, division\n",
    "%matplotlib inline\n",
    "\n",
    "import networkx as nx\n",
    "import numpy as np\n",
    "\n",
    "M = [\"0,1,2\",\n",
    "\"1,0,2\",\n",
    "\"2,0,1,3\",\n",
    "\"3,2,4,5\",\n",
    "\"4,3,5\",\n",
    "\"5,3,4\"\n",
    "    ]\n",
    "G=nx.parse_adjlist(M, nodetype=int, delimiter=\",\")\n",
    "nx.draw(G, with_labels=True)"
   ]
  },
  {
   "cell_type": "code",
   "execution_count": 2,
   "metadata": {},
   "outputs": [
    {
     "data": {
      "text/plain": [
       "7"
      ]
     },
     "execution_count": 2,
     "metadata": {},
     "output_type": "execute_result"
    }
   ],
   "source": [
    "for node in [0,1,2]:\n",
    "    G.nodes[node]['community'] = 0\n",
    "for node in [3,4,5]:\n",
    "    G.nodes[node]['community'] = 1\n",
    "\n",
    "len(G.edges)"
   ]
  },
  {
   "cell_type": "markdown",
   "metadata": {},
   "source": [
    "Now we compute the modularity of the graph given the current community assignment"
   ]
  },
  {
   "cell_type": "code",
   "execution_count": 4,
   "metadata": {},
   "outputs": [
    {
     "data": {
      "text/plain": [
       "0.3571428571428571"
      ]
     },
     "execution_count": 4,
     "metadata": {},
     "output_type": "execute_result"
    }
   ],
   "source": [
    "\n",
    "def compute_modularity(G):\n",
    "    '''\n",
    "    TODO: compute the modularity of a networkx graph\n",
    "    HINTS:\n",
    "    + The community label of a node can be accessed by G.nodes[node_id]['community'] \n",
    "    + The degree of a node: G.degree[node_id]\n",
    "    + The neighbors of a node: G.neighbors(node_id)\n",
    "    + Number of edges between 2 nodes: G.number_of_edges(node_1, node_2)\n",
    "    '''\n",
    "    m = len(G.edges)\n",
    "    Q = 0\n",
    "    \n",
    "    for i in G.nodes():\n",
    "        for j in G.nodes():\n",
    "            if G.nodes[i]['community'] == G.nodes[j]['community']:\n",
    "                k_i = G.degree[i]\n",
    "                k_j = G.degree[j]\n",
    "                A_ij = G.number_of_edges(i, j)\n",
    "                e_ij = k_i * k_j / (2 * m)\n",
    "                Q += (A_ij - e_ij)\n",
    "    \n",
    "    return Q / (2 * m)\n",
    "\n",
    "compute_modularity(G)"
   ]
  },
  {
   "cell_type": "markdown",
   "metadata": {},
   "source": [
    "### 4.2. Naive Louvain algorithm\n",
    "\n",
    "It is convenient to use the adjacency matrix representation."
   ]
  },
  {
   "cell_type": "code",
   "execution_count": 5,
   "metadata": {},
   "outputs": [
    {
     "name": "stdout",
     "output_type": "stream",
     "text": [
      "[[0 1 1 0 0 0]\n",
      " [1 0 1 0 0 0]\n",
      " [1 1 0 1 0 0]\n",
      " [0 0 1 0 1 1]\n",
      " [0 0 0 1 0 1]\n",
      " [0 0 0 1 1 0]]\n",
      "[0 1 2 3 4 5]\n",
      "[2, 2, 3, 3, 2, 2]\n",
      "7.0\n"
     ]
    }
   ],
   "source": [
    "def adj_matrix(G):\n",
    "    M = nx.adjacency_matrix(G)\n",
    "    M = np.array(M.todense())\n",
    "    return M\n",
    "M = adj_matrix(G)\n",
    "p = np.array([i for i in range(len(M))])\n",
    "k = [sum(np.array(row).flatten()) for row in M]\n",
    "m = sum(k) / 2 \n",
    "print(M)\n",
    "print(p)\n",
    "print(k)\n",
    "print(m)"
   ]
  },
  {
   "cell_type": "markdown",
   "metadata": {},
   "source": [
    "Now we implement phase 1 of Louvain algorithm, in which we partition the nodes to maximize the modularity"
   ]
  },
  {
   "cell_type": "code",
   "execution_count": null,
   "metadata": {},
   "outputs": [],
   "source": [
    "def phase1(M, p=None, k=None):\n",
    "    N = len(M)\n",
    "    \n",
    "    if p is None: p = np.array([i for i in range(N)])\n",
    "    \n",
    "    if k is None: k = np.array([sum(row) for row in M])\n",
    "    \n",
    "    m = sum(k) / 2\n",
    "\n",
    "    improvement = True\n",
    "    while improvement:\n",
    "        improvement = False\n",
    "        for i in range(N):\n",
    "            p_max = p[i]\n",
    "            delta_Q_max = 0\n",
    "            for j in range(N):\n",
    "                if M[i][j] == 0: continue\n",
    "                Q_plus = 0 \n",
    "                Q_minus = 0 \n",
    "                \n",
    "                for l in range(N):\n",
    "                    if p[l] == p[j]:\n",
    "                        Q_plus += M[i][l] - k[i] * k[l] / (2 * m)\n",
    "                    if p[l] == p[i]:\n",
    "                        Q_minus += M[i][l] - k[i] * k[l] / (2 * m)\n",
    "                delta_Q = Q_plus - Q_minus\n",
    "                \n",
    "                if delta_Q_max < delta_Q:\n",
    "                    delta_Q_max = delta_Q\n",
    "                    p_max = p[j]\n",
    "            \n",
    "            p[i] = p_max\n",
    "\n",
    "            if not improvement and delta_Q_max > 0:\n",
    "                improvement = True\n",
    "    return p\n",
    "\n",
    "phase1(M)"
   ]
  },
  {
   "cell_type": "markdown",
   "metadata": {},
   "source": [
    "Now we implement the phase 2 of Louvain algorithm, in which we merge the nodes within the same community to a single node and create edges between communities."
   ]
  },
  {
   "cell_type": "code",
   "execution_count": null,
   "metadata": {},
   "outputs": [],
   "source": [
    "def phase2(M, p):\n",
    "    N = len(M)\n",
    "    communities = np.unique(p)\n",
    "    C = len(communities)\n",
    "    communities = dict(zip(communities, range(len(communities))))\n",
    "    \n",
    "    M_new = np.array([[0] * C for x in communities])\n",
    "    \n",
    "    \n",
    "    for i in range(N):\n",
    "        for j in range(N):\n",
    "            if M[i][j] == 0: continue\n",
    "            if p[i] == p[j]: continue\n",
    "            M_new[communities[p[i]]][communities[p[j]]] += M[i][j]\n",
    "    \n",
    "    return M_new\n",
    "\n",
    "M_new = phase2(M, phase1(M))\n",
    "p_new = phase1(M_new)\n",
    "M_new, p_new"
   ]
  },
  {
   "cell_type": "markdown",
   "metadata": {},
   "source": [
    "Now we can implement the full Louvain algorithm"
   ]
  },
  {
   "cell_type": "code",
   "execution_count": null,
   "metadata": {},
   "outputs": [],
   "source": [
    "def louvain(M, verbose=True):\n",
    "    C = len(M)\n",
    "    iter = 0\n",
    "    M_new = M\n",
    "    print(\"Level 0 partition: {0}\".format(np.array([i for i in range(C)])))\n",
    "    while C > 1:\n",
    "        iter += 1\n",
    "        p = phase1(M_new)\n",
    "        M_new = phase2(M_new, p)\n",
    "        C = len(M_new)\n",
    "        print(\"Level {0} partition: {1}\".format(iter, p))\n",
    "        \n",
    "louvain(M)"
   ]
  },
  {
   "cell_type": "markdown",
   "metadata": {},
   "source": [
    "### 4.3. Efficient Louvain algorithm\n",
    "\n",
    "The naive Louvain algorithm is not efficient. It takes $O(n^3)$. There are some improvements in the literature\n",
    "\n",
    "+ http://www.ijcee.org/vol8/927-A023.pdf\n",
    "+ https://www.cs.upc.edu/~CSN/slides/07communities.pdf\n",
    "+ https://en.wikipedia.org/wiki/Louvain_Modularity\n",
    "+ https://www.quora.com/Is-there-a-simple-explanation-of-the-Louvain-Method-of-community-detection\n",
    "+ http://arxiv.org/abs/0803.0476\n",
    "+ https://stackoverflow.com/questions/22070196/community-detection-in-networkx\n",
    "\n",
    "For simplicity, we will demo one existing implementation. You can try to improve the final visualization further.\n",
    "\n",
    "```bash\n",
    "conda install python-louvain\n",
    "```"
   ]
  },
  {
   "cell_type": "code",
   "execution_count": null,
   "metadata": {},
   "outputs": [],
   "source": [
    "!conda install python-louvain -y\n",
    "import community\n",
    "\n",
    "partition = community.best_partition(G)\n",
    "\n",
    "def visualize(G, partition):\n",
    "    import matplotlib.pyplot as plt\n",
    "    size = float(len(set(partition.values())))\n",
    "    pos = nx.spring_layout(G)\n",
    "    count = 0.\n",
    "    for com in set(partition.values()) :\n",
    "        count += 1.\n",
    "        list_nodes = [nodes for nodes in partition.keys() if partition[nodes] == com]\n",
    "        nx.draw_networkx_nodes(G, pos, list_nodes, node_size = 20,\n",
    "                                    node_color = str(count / size))\n",
    "    nx.draw_networkx_edges(G, pos, alpha=0.5)\n",
    "    plt.show()\n",
    "    return\n",
    "\n",
    "visualize(G, partition)"
   ]
  },
  {
   "cell_type": "markdown",
   "metadata": {},
   "source": [
    "### 4.4. Efficiency comparison\n",
    "\n",
    "We load a larger network and compare the running time of the two implementations."
   ]
  },
  {
   "cell_type": "code",
   "execution_count": null,
   "metadata": {},
   "outputs": [],
   "source": [
    "G = nx.karate_club_graph()\n",
    "nx.draw(G)"
   ]
  },
  {
   "cell_type": "code",
   "execution_count": null,
   "metadata": {},
   "outputs": [],
   "source": [
    "import time\n",
    "M = adj_matrix(G)\n",
    "p = np.array([i for i in range(len(M))])\n",
    "k = np.array([sum(row) for row in M])\n",
    "\n",
    "start_time = time.time()\n",
    "p = phase1(M, p, k)\n",
    "print(\"--- %s seconds ---\" % (time.time() - start_time))\n",
    "print(p)"
   ]
  },
  {
   "cell_type": "code",
   "execution_count": null,
   "metadata": {},
   "outputs": [],
   "source": [
    "start_time = time.time()\n",
    "p = community.best_partition(G)\n",
    "print(\"--- %s seconds ---\" % (time.time() - start_time))\n",
    "print(p)\n",
    "visualize(G, p)"
   ]
  },
  {
   "cell_type": "markdown",
   "metadata": {},
   "source": [
    "Now we load an even larger network: https://snap.stanford.edu/data/email-Eu-core.html"
   ]
  },
  {
   "cell_type": "code",
   "execution_count": null,
   "metadata": {},
   "outputs": [],
   "source": [
    "G = nx.read_edgelist(\"email-Eu-core.txt\")\n",
    "nx.draw(G)\n",
    "print(nx.info(G))"
   ]
  },
  {
   "cell_type": "code",
   "execution_count": null,
   "metadata": {},
   "outputs": [],
   "source": [
    "start_time = time.time()\n",
    "p = community.best_partition(G)\n",
    "print(\"--- %s seconds ---\" % (time.time() - start_time))\n",
    "# print(p)\n",
    "visualize(G, p)"
   ]
  },
  {
   "cell_type": "code",
   "execution_count": null,
   "metadata": {},
   "outputs": [],
   "source": [
    "\n",
    "M = adj_matrix(G)\n",
    "p = np.array([i for i in range(len(M))])\n",
    "k = np.array([sum(row) for row in M])\n",
    "\n",
    "start_time = time.time()\n",
    "p = phase1(M, p, k)\n",
    "print(\"--- %s seconds ---\" % (time.time() - start_time))\n",
    "print(p)"
   ]
  }
 ],
 "metadata": {
  "kernelspec": {
   "display_name": "Python 3 (ipykernel)",
   "language": "python",
   "name": "python3"
  },
  "language_info": {
   "codemirror_mode": {
    "name": "ipython",
    "version": 3
   },
   "file_extension": ".py",
   "mimetype": "text/x-python",
   "name": "python",
   "nbconvert_exporter": "python",
   "pygments_lexer": "ipython3",
   "version": "3.9.0"
  }
 },
 "nbformat": 4,
 "nbformat_minor": 2
}
